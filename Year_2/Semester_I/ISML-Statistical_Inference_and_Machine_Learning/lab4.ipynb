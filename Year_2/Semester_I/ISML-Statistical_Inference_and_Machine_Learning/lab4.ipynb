{
 "cells": [
  {
   "cell_type": "code",
   "execution_count": 1,
   "metadata": {},
   "outputs": [],
   "source": [
    "import numpy as np\n",
    "import matplotlib.pyplot as plt\n",
    "import scipy.stats as stats\n",
    "from scipy.stats import norm\n",
    "from scipy.special import binom\n",
    "import pandas as pd\n",
    "import math\n",
    "import pickle"
   ]
  },
  {
   "cell_type": "markdown",
   "metadata": {},
   "source": [
    "# Laborator"
   ]
  },
  {
   "cell_type": "markdown",
   "metadata": {},
   "source": [
    "## Distribuţii curente"
   ]
  },
  {
   "cell_type": "code",
   "execution_count": 3,
   "metadata": {},
   "outputs": [],
   "source": [
    "enc = b'\\x80\\x03}q\\x00(K\\x01K\\x04K\\x02K\\x01K\\x03K\\x03K\\x04K\\x04K\\x05K\\x04K\\x06K\\x01K\\x07K\\x02K\\x08G?\\xee%\\xae\\xe61\\xf8\\xa1K\\nG\\xbf\\xf4\\x81<\\xab\\x81\\xf9jK\\x0bK\\x02K\\x0cK\\x00K\\rG?\\xff\\\\(\\xf5\\xc2\\x8f\\\\K\\x0eG@\\x1b\\xae\\x01\\x98\\xf7\\x7f\\xc2K\\x0fG@\\x1b\\xae\\x14z\\xe1G\\xaeK\\x10G?\\xef333333K\\x11G?\\xb0\\xee\\x84\\xdfS\\xa8=K\\x12G?\\xb1,\\x8b\\xb0\\x96\\x0boK\\x13K\\x01K\\x14K\\x01K\\x15K\\x03K\\x16G?\\xfaQR\\tgj\\xbbK\\x17K\\x03K\\x18]q\\x01(G?\\xd5UUUUUUG?\\xf0\\x00\\x00\\x00\\x00\\x00\\x00eK\\x19]q\\x02(G?\\xe0\\x00\\x00\\x00\\x00\\x00\\x00G?\\xe6ffffffeK\\x1aK\\x01K\\x1b]q\\x03(G?\\xe0 \\xc4\\x9b\\xa5\\xe3TG?\\xe6E\\xa1\\xca\\xc0\\x83\\x12eK\\x1c]q\\x04(G?z\\x9f\\xbev\\xc8\\xb49G?\\xb9x\\xd4\\xfd\\xf3\\xb6FeK\\x1dK\\x02K\\x1eK\\x02K\\x1fK\\x03K K\\x02K!K\\x03K\"K\\x02K#K\\x02K$K\\x04u.'\n",
    "d = pickle.loads(enc)\n",
    "\n",
    "def r(n, x):  \n",
    "    if d.get(n) is not None and d[n] == x: return True\n",
    "    return False\n",
    "\n",
    "def adjust(x, decimals=4):\n",
    "    r = x\n",
    "    if type(x) is list and type(x[0]) is float:\n",
    "        r = [round(i, decimals) for i in x]\n",
    "    elif type(x) is float:\n",
    "        r = round(x, decimals)\n",
    "    elif type(x) is list and type(x[0]) is np.float64:\n",
    "        r = [round(i, decimals) for i in x]\n",
    "    elif type(x) is np.float64:\n",
    "        r = round(x, decimals)\n",
    "    return r\n",
    "\n",
    "def raspuns(n, q, rounding=False):\n",
    "    #d = pickle.loads(enc)\n",
    "    r = adjust(q())\n",
    "    print('Raspuns %s' % ('corect' if d.get(n) is not None and adjust(d[n]) == r else 'incorect'))"
   ]
  },
  {
   "cell_type": "markdown",
   "metadata": {},
   "source": [
    "Distribuţia Bernoulli este asociată experimentelor care pot avea doar două rezultate. Acestea se numesc binary trials.\n",
    "\n",
    "Q1. Care din următoarele este un trial Bernoulli?\n",
    "\n",
    "1. Învârtirea roţii jocului de ruletă;\n",
    "2. Extragerea unei cărţi de joc din pachet;\n",
    "3. Aruncarea zarului;\n",
    "4. Aruncarea monezii."
   ]
  },
  {
   "cell_type": "code",
   "execution_count": 7,
   "metadata": {},
   "outputs": [
    {
     "name": "stdout",
     "output_type": "stream",
     "text": [
      "Raspuns corect\n"
     ]
    }
   ],
   "source": [
    "def q():\n",
    "    return 4\n",
    "\n",
    "raspuns(1, q)"
   ]
  },
  {
   "cell_type": "markdown",
   "metadata": {},
   "source": [
    "Q2. O variabilă aleatoare Bernoulli poate lua doar două valori, 0 şi 1. Presupunem că probabilitatea ca un trial Bernoulli aibă ca rezultat 1 este $p$. Care din următoarele reprezintă probabilitatea să iasă 0?\n",
    "\n",
    "1. $1-p$\n",
    "2. $p$\n",
    "3. $p^2$\n",
    "4. $p(1-p)$"
   ]
  },
  {
   "cell_type": "code",
   "execution_count": 8,
   "metadata": {},
   "outputs": [
    {
     "name": "stdout",
     "output_type": "stream",
     "text": [
      "Raspuns corect\n"
     ]
    }
   ],
   "source": [
    "def q():\n",
    "    return 1\n",
    "\n",
    "raspuns(2, q)"
   ]
  },
  {
   "cell_type": "markdown",
   "metadata": {},
   "source": [
    "Q3. În condiţiile anterioare, care din următoarele reprezintă o PMF (probability mass function, sau densitate de probabilitate) pentru distribuţia Bernoulli? Ne reamintim că PMF reprezintă probabilitatea ca variabila aleatoare X să fie egală cu x, $P(X=x)$.\n",
    "\n",
    "1. $p^{1-x}(1-p)^{1-x}$\n",
    "2. $p(1-p)$\n",
    "3. $p^x(1-p)^{1-x}$\n",
    "3. $p^{1-x}(1-p)^x$"
   ]
  },
  {
   "cell_type": "code",
   "execution_count": 9,
   "metadata": {},
   "outputs": [
    {
     "name": "stdout",
     "output_type": "stream",
     "text": [
      "Raspuns corect\n"
     ]
    }
   ],
   "source": [
    "def q():\n",
    "    return 3\n",
    "\n",
    "raspuns(3, q)"
   ]
  },
  {
   "cell_type": "markdown",
   "metadata": {},
   "source": [
    "Q4. Care este media populaţiei pentru distribuţia Bernoulli pentru care probabilitatea de succes (X=1) este $p$?\n",
    "\n",
    "1. $p^2$\n",
    "2. $1-p$\n",
    "3. $p(1-p)$\n",
    "4. $p$"
   ]
  },
  {
   "cell_type": "code",
   "execution_count": 10,
   "metadata": {},
   "outputs": [
    {
     "name": "stdout",
     "output_type": "stream",
     "text": [
      "Raspuns corect\n"
     ]
    }
   ],
   "source": [
    "def q():\n",
    "    return 4\n",
    "\n",
    "raspuns(4, q)"
   ]
  },
  {
   "cell_type": "markdown",
   "metadata": {},
   "source": [
    "Q5. Pentru aceeaşi distribuţie Bernoulli, care din următoarele reprezintă $E(X^2)$?\n",
    "\n",
    "1. $p^2$\n",
    "2. $(1-p)^2$\n",
    "3. $p(1-p)$\n",
    "4. $p$\n",
    "5. $1-p$"
   ]
  },
  {
   "cell_type": "code",
   "execution_count": 11,
   "metadata": {},
   "outputs": [
    {
     "name": "stdout",
     "output_type": "stream",
     "text": [
      "Raspuns corect\n"
     ]
    }
   ],
   "source": [
    "def q():\n",
    "    return 4\n",
    "\n",
    "raspuns(5, q)"
   ]
  },
  {
   "cell_type": "markdown",
   "metadata": {},
   "source": [
    "Q6. Calculaţi dispersia pentru variabila aleatoare Bernoulli. Folosiţi ultimele două întrebări, şi faptul că $Var(X) = E(X^2) - E(X)^2$.\n",
    "\n",
    "1. $p(1-p)$\n",
    "2. $p^2(1-p)^2$\n",
    "3. $p(p-1)$\n",
    "4. $p^2-p$"
   ]
  },
  {
   "cell_type": "code",
   "execution_count": 12,
   "metadata": {},
   "outputs": [
    {
     "name": "stdout",
     "output_type": "stream",
     "text": [
      "Raspuns corect\n"
     ]
    }
   ],
   "source": [
    "def q():\n",
    "    return 1\n",
    "\n",
    "raspuns(6, q)"
   ]
  },
  {
   "cell_type": "markdown",
   "metadata": {},
   "source": [
    "Variabilele aleatoare binomiale sunt obţinute ca sumă de trials Bernoulli iid. Fie $X_1, X_2, \\dots$ variabile Bernoulli. Atunci $X = X_1 + X_2 + \\dots$ este variabila binomială. Variabilele binomiale reprezintă numărul de succese, k, din n trial-uri independente Bernoulli. Fiecare trial are probabilitatea p.\n",
    "\n",
    "Q7. PMF pentru o variabilă binomială, folosim combinări de n luate câte k, adică coeficienţii binomiali. Care din următoarele reprezintă PMF pentru distribuţia binomială?\n",
    "\n",
    "1. $\\binom{n}{k}p^x(1-p)^{1-x}$\n",
    "2. $\\binom{n}{k}p^x(1-p)^{n-x}$\n",
    "3. $p^x$\n",
    "4. $\\binom{n}{k}p^{n-x}(1-p)^x$"
   ]
  },
  {
   "cell_type": "code",
   "execution_count": 13,
   "metadata": {},
   "outputs": [
    {
     "name": "stdout",
     "output_type": "stream",
     "text": [
      "Raspuns corect\n"
     ]
    }
   ],
   "source": [
    "def q():\n",
    "    return 2\n",
    "\n",
    "raspuns(7, q)"
   ]
  },
  {
   "cell_type": "markdown",
   "metadata": {},
   "source": [
    "Q8. Dăm cu o monedă biased (neechilibrată) de 5 ori. Probabilitatea să iasă Head este 0.8 şi Tail 0.2. Care este probabilitatea să iasă __cel puţin__ 3 Heads?\n",
    "\n",
    "__Hint__: folosiţi funcţia binom."
   ]
  },
  {
   "cell_type": "code",
   "execution_count": 14,
   "metadata": {},
   "outputs": [
    {
     "name": "stdout",
     "output_type": "stream",
     "text": [
      "Raspuns corect\n"
     ]
    }
   ],
   "source": [
    "from scipy.special import binom\n",
    "\n",
    "def q():\n",
    "    p = 0.8\n",
    "    return (binom(5, 3)*p**3*.2**2 + binom(5, 4)*p**4*.2**1+ binom(5, 5)*p**5*.2**0)\n",
    "\n",
    "raspuns(8, q, True)"
   ]
  },
  {
   "cell_type": "markdown",
   "metadata": {},
   "source": [
    "Q9. Folosiţi acum funcţia stats.binom.cdf() sau, dacă vreţi, survival function, stats.binom.sf() pentru a exprima acelaşi lucru.\n",
    "\n",
    "__Hint__: atenţie, funcţia cdf() exprimă $P(X \\leq x)$, iar survival function este $P(X > x) = 1 - P(X \\leq x)$.\n",
    "\n",
    "__Hint2__: https://docs.scipy.org/doc/scipy/reference/generated/scipy.stats.binom.html"
   ]
  },
  {
   "cell_type": "code",
   "execution_count": 15,
   "metadata": {},
   "outputs": [
    {
     "name": "stdout",
     "output_type": "stream",
     "text": [
      "Raspuns corect\n"
     ]
    }
   ],
   "source": [
    "from scipy.special import binom\n",
    "\n",
    "def q():\n",
    "    p = 0.8\n",
    "    return (1-stats.binom.cdf(2, 5, p))\n",
    "\n",
    "raspuns(8, q)"
   ]
  },
  {
   "cell_type": "markdown",
   "metadata": {},
   "source": [
    "Q10. O altă distribuţie comună este distribuţia Gaussiană. Densitatea sa de probabilitate este clopotul Gauss, simetrică, de medie $\\mu$. Dispersia $\\sigma^2$ corespunde lăţimii clopotului, cu cât mai mare, cu atât mai 'gras' este clopotul. Notăm o variabilă aleatorie de distribuţie normală cu $N \\sim N(\\mu, \\sigma^2)$. \n",
    "\n",
    "Distribuţia normală standard este cea cu $\\mu = 0$ şi $\\sigma = 1$ şi e deseori notată cu Z.\n",
    "\n",
    "Aproximativ 68%, 95% şi 99% din masa densităţii normale se află la 1, 2 şi respectiv 3 deviaţii standard faţă de medie. \n",
    "\n",
    "Folosiţi funcţia stats.norm.ppf() pentru a găsi percentila 10% (6 zecimale exacte). Folosiţi https://docs.scipy.org/doc/scipy/reference/generated/scipy.stats.norm.html"
   ]
  },
  {
   "cell_type": "code",
   "execution_count": 16,
   "metadata": {},
   "outputs": [
    {
     "name": "stdout",
     "output_type": "stream",
     "text": [
      "Raspuns corect\n"
     ]
    }
   ],
   "source": [
    "def q():\n",
    "    return stats.norm.ppf(.1, 0, scale=1)\n",
    "\n",
    "raspuns(10, q)"
   ]
  },
  {
   "cell_type": "markdown",
   "metadata": {},
   "source": [
    "Q11. Bazându-vă pe imaginea de la curs cu procentele de masă ale Gaussienei, cam pe unde vă aşteptaţi să fie percentila 1%?\n",
    "\n",
    "1. 0\n",
    "2. -2.33\n",
    "3. 2.33\n",
    "4. -1.28\n",
    "5. -1"
   ]
  },
  {
   "cell_type": "code",
   "execution_count": 17,
   "metadata": {},
   "outputs": [
    {
     "name": "stdout",
     "output_type": "stream",
     "text": [
      "Raspuns corect\n"
     ]
    }
   ],
   "source": [
    "def q():\n",
    "    return 2\n",
    "\n",
    "raspuns(11, q)"
   ]
  },
  {
   "cell_type": "markdown",
   "metadata": {},
   "source": [
    "Q12. Dar percentila 50%, câte deviaţii standard reprezintă?"
   ]
  },
  {
   "cell_type": "code",
   "execution_count": 18,
   "metadata": {},
   "outputs": [
    {
     "name": "stdout",
     "output_type": "stream",
     "text": [
      "Raspuns corect\n"
     ]
    }
   ],
   "source": [
    "def q():\n",
    "    return 0\n",
    "\n",
    "raspuns(12, q)"
   ]
  },
  {
   "cell_type": "markdown",
   "metadata": {},
   "source": [
    "Q13. Folosind simetria clopotului Gauss, determinăm alte cantităţi. Dacă 2.5% din aria de sub curbă se află la stânga lui x=-1.96, care este percentila 97.5% pentru distribuţia normală standard?"
   ]
  },
  {
   "cell_type": "code",
   "execution_count": 19,
   "metadata": {},
   "outputs": [
    {
     "name": "stdout",
     "output_type": "stream",
     "text": [
      "Raspuns corect\n"
     ]
    }
   ],
   "source": [
    "def q():\n",
    "    return 1.96\n",
    "\n",
    "raspuns(13, q)"
   ]
  },
  {
   "cell_type": "markdown",
   "metadata": {},
   "source": [
    "O distribuţie normală poate fi transformată prin scalare într-una standard.\n",
    "\n",
    "Dacă $X \\sim N(\\mu, \\sigma^2)$, atunci pentu $Z = (X-\\mu)/\\sigma$, $Z \\sim N(0, 1)$.\n",
    "\n",
    "Reciproc, dacă $Z \\sim N(0, 1)$, atunci $X = \\mu + \\sigma Z$ va avea o distribuţie $X \\sim N(\\mu, \\sigma^2)$.\n",
    "\n",
    "Q14. Folosiţi funcţia stats.norm.ppf(x, loc=.., scale=..) pentru a găsi percentila 97.5 pentru o distribuţie normală de medie 3 şi dispersie 4."
   ]
  },
  {
   "cell_type": "code",
   "execution_count": 20,
   "metadata": {},
   "outputs": [
    {
     "name": "stdout",
     "output_type": "stream",
     "text": [
      "Raspuns corect\n"
     ]
    }
   ],
   "source": [
    "def q():\n",
    "    return stats.norm.ppf(.975, 3, math.sqrt(4))\n",
    "\n",
    "raspuns(14, q)"
   ]
  },
  {
   "cell_type": "markdown",
   "metadata": {},
   "source": [
    "Q15. Calculaţi acum percentila pornind de la distribuţia normală standard; ştim că pentru distribuţia standard, percentila  97.5 se află la 1.96 deviaţii standard faţă de medie. Înmulţiţi cu deviaţia standard şi adunaţi media:"
   ]
  },
  {
   "cell_type": "code",
   "execution_count": 21,
   "metadata": {},
   "outputs": [
    {
     "name": "stdout",
     "output_type": "stream",
     "text": [
      "Raspuns corect\n"
     ]
    }
   ],
   "source": [
    "def q():\n",
    "    return 6.92\n",
    "\n",
    "raspuns(15, q)"
   ]
  },
  {
   "cell_type": "markdown",
   "metadata": {},
   "source": [
    "Q16. Observaţi că funcţia stats.norm.cdf() ne dă care este probabilitatea ca variabila X să fie mai mică sau egală cu un x dat, cu alte cuvinte procentul de numere mai mici sau egale cu x dat, iar funcţia stats.norm.ppf() ne dă care este poziţia lui x astfel ca un procent dat de valori X să fie mai mici sau egale cu x. Cu alte cuvinte, functiile cdf() şi ppf() sunt inverse.\n",
    "\n",
    "Ce valoare vă aşteptaţi să dea stats.norm.cdf(stats.norm.ppf(.975)) ?"
   ]
  },
  {
   "cell_type": "code",
   "execution_count": 22,
   "metadata": {},
   "outputs": [
    {
     "name": "stdout",
     "output_type": "stream",
     "text": [
      "Raspuns corect\n"
     ]
    }
   ],
   "source": [
    "def q():\n",
    "    return .975\n",
    "\n",
    "raspuns(16, q)"
   ]
  },
  {
   "cell_type": "markdown",
   "metadata": {},
   "source": [
    "Distribuţia Poisson este o distribuţie discretă care exprimă probabilitatea apariţiei unui număr dat de evenimente într-un interval fix de timp (sau spaţiu), dacă aceste evenimente apar cu o rată medie cunoscută, independent de momentul de timp de la ultimul eveniment (Wikipedia).\n",
    "\n",
    "PMF pentru distribuţia Poisson are un singur parametru, $\\lambda$. PMF calculează probabilitatea ca variabila aleatoare X, distribuită Poisson, să ia valoarea x. Anume:\n",
    "\n",
    "$P(X=x) = \\lambda^x e^{-\\lambda} / x!$\n",
    "\n",
    "x ia valori discrete de la 0 la infinit. Media şi dispersia pentru variabila Poisson X sunt tot $\\lambda$.\n",
    "\n",
    "Variabilele Poisson sunt folosite pentru modelarea ratei defectelor, de exemplu rata de defectare a SSD-urilor. Scriem $X \\sim Poisson(\\lambda t)$, unde $\\lambda$ este valoarea aşteptată a count-ului pe unitatea de timp iar $t$ este timpul total de monitorizare.\n",
    "\n",
    "De exemplu, presupunem că numărul de oameni care apar la o staţie de autobuz este o variabilă Poisson cu o medie de 2.5 pe oră, şi vrem să aflăm probabilitatea ca cel mult 3 oameni să apară într-o perioadă de 4 ore. Folosim funcţia stats.poisson.cdf(.. , mu= ..) pentru a afla probabilitatea ca variabila aleatoare să fie mai mică sau egală cu 3. Indicăm quantila (3) şi media (2.5*4)."
   ]
  },
  {
   "cell_type": "code",
   "execution_count": 43,
   "metadata": {},
   "outputs": [
    {
     "data": {
      "text/plain": [
       "0.010336050675925726"
      ]
     },
     "execution_count": 43,
     "metadata": {},
     "output_type": "execute_result"
    }
   ],
   "source": [
    "stats.poisson.cdf(3, mu=2.5*4)"
   ]
  },
  {
   "cell_type": "markdown",
   "metadata": {},
   "source": [
    "Distribuţia Poisson aproximează distribuţia binomială pentru $p$ mici şi $n$ mari, caz în care punem $\\lambda=n*p$. De exemplu, să estimăm probabilitatea de a vedea cel mult 5 succese din 1000 de trials (încercări), pentru aruncarea unei monezi biased, cu probabilitatea de succes $p=0.01$.\n",
    "\n",
    "Q17. Folosiţi https://docs.scipy.org/doc/scipy/reference/generated/scipy.stats.binom.html şi estimaţi probabilitaeta folosind distribuţia binomială:"
   ]
  },
  {
   "cell_type": "code",
   "execution_count": 23,
   "metadata": {},
   "outputs": [
    {
     "name": "stdout",
     "output_type": "stream",
     "text": [
      "Raspuns corect\n"
     ]
    }
   ],
   "source": [
    "def q():\n",
    "    return stats.binom.cdf(5,1000,0.01)\n",
    "\n",
    "raspuns(17, q)"
   ]
  },
  {
   "cell_type": "markdown",
   "metadata": {},
   "source": [
    "Q18. Folosiţi acum distribuţia Poisson pentru a exprima acelaşi lucru. La final, tipăriţi ambele variante (print) şi comparaţi-le."
   ]
  },
  {
   "cell_type": "code",
   "execution_count": 24,
   "metadata": {},
   "outputs": [
    {
     "name": "stdout",
     "output_type": "stream",
     "text": [
      "Raspuns corect\n"
     ]
    }
   ],
   "source": [
    "def q():\n",
    "    return stats.poisson.cdf(5,1000*0.01)\n",
    "\n",
    "raspuns(18, q)"
   ]
  },
  {
   "cell_type": "markdown",
   "metadata": {},
   "source": [
    "## Asymptotics. Intervale de confidenţă"
   ]
  },
  {
   "cell_type": "markdown",
   "metadata": {},
   "source": [
    "Presupunerea pe care o facem despre populaţie, că este infinită, precum şi pesupunerea că mărimea sample-ului poate creşte oricât, sunt folositoare pentru a face inferenţe statistice şi aproximări. \n",
    "\n",
    "Comportamentele asimptotice nu dau garanţii pentru cazuri finite, însă formează baza pentru interpretarea probabilităţilor din perspectiva frecventistă - proporţia în care apare un eveniment din perspectiva observaţiei pe un timp îndelungat.\n",
    "\n",
    "Q19. Ne readucem aminte experimentele făcute pentru a trasa distribuţia sample means pentru o coleţie de observaţii iid (dădeam de 10 ori cu zarul şi calculam media celor 10 aruncări; repetam acest lucru de 10000 de ori şi obţineam 10000 de medii). Media acestor sample means estimează:\n",
    "\n",
    "1. media populaţiei\n",
    "2. dispersia populaţiei\n",
    "3. standard error\n",
    "4. $\\sigma^2 / n$"
   ]
  },
  {
   "cell_type": "code",
   "execution_count": 25,
   "metadata": {},
   "outputs": [
    {
     "name": "stdout",
     "output_type": "stream",
     "text": [
      "Raspuns corect\n"
     ]
    }
   ],
   "source": [
    "def q():\n",
    "    return 1\n",
    "\n",
    "raspuns(19, q)"
   ]
  },
  {
   "cell_type": "markdown",
   "metadata": {},
   "source": [
    "Această tendinţă a mediei sample-urilor să se apropie de ceea ce vrea să estimeze este LLN - Law of Large Numbers. Ea formează baza abordării frecventiste.\n",
    "\n",
    "Teorema Centrală de Limită (CLT) afirmă că distribuţia mediei unor variabile iid (normalizată corespunzător) devine cea a unei distribuţii normale standard pe măsură ce mărimea sample-ului creşte.\n",
    "\n",
    "Adică, pentru $n$ suficient de mare, variabila normalizată:\n",
    "\n",
    "$\\frac{\\bar{X} - \\mu}{\\sigma / \\sqrt{n}}$\n",
    "\n",
    "are o distribuţie normală de medie 0 şi dispersie 1.\n",
    "\n",
    "Q20. Deoarece deviaţia standard a populaţiei $\\sigma$ este necunoscută, $\\sigma / \\sqrt{n}$ este aproximată cu:\n",
    "\n",
    "1. eroarea standard a sample mean;\n",
    "2. media populaţiei;\n",
    "3. dispersia populaţiei;\n",
    "4. nici una din cele de mai sus."
   ]
  },
  {
   "cell_type": "code",
   "execution_count": 26,
   "metadata": {},
   "outputs": [
    {
     "name": "stdout",
     "output_type": "stream",
     "text": [
      "Raspuns corect\n"
     ]
    }
   ],
   "source": [
    "def q():\n",
    "    return 1\n",
    "\n",
    "raspuns(20, q)"
   ]
  },
  {
   "cell_type": "code",
   "execution_count": 48,
   "metadata": {},
   "outputs": [
    {
     "data": {
      "image/png": "[encoded data removed]",
      "text/plain": [
       "<Figure size 432x288 with 1 Axes>"
      ]
     },
     "metadata": {},
     "output_type": "display_data"
    }
   ],
   "source": [
    "mu = 0\n",
    "std = 1\n",
    "\n",
    "x = np.linspace(mu - 4*std, mu + 4*std, 100)\n",
    "x1 = np.linspace(mu - 2*std, mu + 2*std, 50)\n",
    "x2 = np.linspace(mu - 1*std, mu + 1*std, 25)\n",
    "plt.plot(x, stats.norm.pdf(x, mu, std))\n",
    "plt.fill_between(x1, stats.norm.pdf(x1, mu, std), color=\"red\", alpha=0.6)\n",
    "plt.fill_between(x2, stats.norm.pdf(x2, mu, std), color=\"red\", alpha=0.9)\n",
    "plt.grid(True)\n",
    "plt.xlabel('Random Variable')\n",
    "plt.ylabel('Probability')\n",
    "plt.title('Proporţia masei în distribuţia normală')\n",
    "plt.show()"
   ]
  },
  {
   "cell_type": "markdown",
   "metadata": {},
   "source": [
    "Pentru distribuţia normală, 95% din aria de sub curbă este între 2 deviaţii standard faţă de medie (toată aria marcată cu roşu de mai sus). Deci în 'cozile' (tails) laterale rămâne restul de 5%. Partea la o deviaţie standard faţă de medie (partea roşie centrală) formează cam 68% din total; iar aria situată la 3 deviaţii standard faţă de medie formează aproximativ 99.5% din total.\n",
    "\n",
    "Aşadar cam 5% din arie nu este marcată. Prin simetrie, doar 2.5% din date sunt mai mari sau egale cu 2 deviaţii standard faţă de medie. Putem scrie aşadar:\n",
    "\n",
    "$P(\\bar{X} > 2 \\sigma/\\sqrt{n} \\: \\text{or} \\: \\bar{X} < -2 \\sigma/\\sqrt{n}) = 5\\%$\n",
    "\n",
    "Cantitatea:\n",
    "\n",
    "$\\bar{X} \\pm 2 \\frac{\\sigma}{\\sqrt{n}}$ (cuantila 0.975 este de fapt 1.96, dar o aproximăm cu 2)\n",
    "\n",
    "este denumită intervalul 95% pentru $\\mu$. Acest 95% spune că dacă realizăm în mod repetat sample-uri de dimensiune $n$, aproximativ 95% dintre ele vor conţine $\\mu$, cantitatea pe care încercăm să o estimăm."
   ]
  },
  {
   "cell_type": "markdown",
   "metadata": {},
   "source": [
    "Q21. Dacă urmărim să obţinem intervalul de confidenţă 90%, ce cuantilă folosim?\n",
    "\n",
    "1. 100\n",
    "2. 90\n",
    "3. 95\n",
    "4. 85"
   ]
  },
  {
   "cell_type": "code",
   "execution_count": 27,
   "metadata": {},
   "outputs": [
    {
     "name": "stdout",
     "output_type": "stream",
     "text": [
      "Raspuns corect\n"
     ]
    }
   ],
   "source": [
    "def q():\n",
    "    return 3\n",
    "\n",
    "raspuns(21, q)"
   ]
  },
  {
   "cell_type": "markdown",
   "metadata": {},
   "source": [
    "Q22. Folosiţi stats.norm.ppf() pentru a obţine această quantilă:"
   ]
  },
  {
   "cell_type": "code",
   "execution_count": 28,
   "metadata": {},
   "outputs": [
    {
     "name": "stdout",
     "output_type": "stream",
     "text": [
      "Raspuns corect\n"
     ]
    }
   ],
   "source": [
    "def q():\n",
    "    return stats.norm.ppf(.95, 0, scale=1)\n",
    "\n",
    "raspuns(22, q)"
   ]
  },
  {
   "cell_type": "markdown",
   "metadata": {},
   "source": [
    "Q23. Într-o distribuţie binomială în care $p$ reprezintă probabilitatea de succes, dispersia este $\\sigma^2 = p(1-p)$. Eroarea standard a mediei sample-ului $\\hat{p}$ este $\\sqrt{p(1-p)/n}$, unde $n$ este dimensiunea sample-ului. Intervalul de confidenţă 95% pentru $p$ este $\\hat{p} \\pm 2 \\sqrt{p(1-p)/n}$. 2-ul din formulă reprezintă:\n",
    "\n",
    "1. eroarea standard a lui $\\hat{p}$\n",
    "2. media lui $\\hat{p}$\n",
    "3. quantila 97.5\n",
    "4. dispersia lui $\\hat{p}$"
   ]
  },
  {
   "cell_type": "code",
   "execution_count": 29,
   "metadata": {},
   "outputs": [
    {
     "name": "stdout",
     "output_type": "stream",
     "text": [
      "Raspuns corect\n"
     ]
    }
   ],
   "source": [
    "def q():\n",
    "    return 3\n",
    "\n",
    "raspuns(23, q)"
   ]
  },
  {
   "cell_type": "markdown",
   "metadata": {},
   "source": [
    "Q24. De cele mai multe ori, pentru o astfel de distribuţie binomială nu cunoaştem valoarea teoretică a lui $p$. Putem însă să considerăm valoarea lui $p$ pentru care funcţia $p(1-p)$ atinge valoarea maximă. \n",
    "\n",
    "a) reprezentaţi grafic funcţia $p(1-p)$ şi observaţi valoarea maximă a lui $p$;\n",
    "\n",
    "b) pentru $p$ astfel determinat, care este intervalul de confidenţă 95% pentru media populaţiei pentru sample-ul $\\{0, 1, 1, 1, 0, 1, 0, 1, 1\\}$? Daţi răspunsul sub formă de listă cu 2 elemente."
   ]
  },
  {
   "cell_type": "code",
   "execution_count": 31,
   "metadata": {},
   "outputs": [
    {
     "name": "stdout",
     "output_type": "stream",
     "text": [
      "Raspuns corect\n"
     ]
    }
   ],
   "source": [
    "sample = np.array([0, 1, 1, 1, 0, 1, 0, 1, 1])\n",
    "\n",
    "\n",
    "def q():\n",
    "    return [0.3333333333333333, 1.0]\n",
    "\n",
    "raspuns(24, q)"
   ]
  },
  {
   "cell_type": "markdown",
   "metadata": {},
   "source": [
    "Q25. În urma unui sondaj a reieşit că din 100 de potenţiali alegători, 60 şi-au exprimat intenţia de a-l vota pe candidatul X. Care este intervalul de confidenţă 95% pentru media populaţiei? Nu cunoaştem probabilitatea de succes pentru candidatul X, aşa că luăm intervalul de confidenţă cel mai larg ($p$ maxim). Daţi cele două valori sub formă de listă."
   ]
  },
  {
   "cell_type": "code",
   "execution_count": 32,
   "metadata": {},
   "outputs": [
    {
     "name": "stdout",
     "output_type": "stream",
     "text": [
      "Raspuns corect\n"
     ]
    }
   ],
   "source": [
    "def q():\n",
    "    return [0.5, 0.7]\n",
    "\n",
    "raspuns(25, q)"
   ]
  },
  {
   "cell_type": "markdown",
   "metadata": {},
   "source": [
    "Q26. Puteţi afirma că sunteţi 95% sigur(ă) că acel candidat va ieşi câştigător?\n",
    "\n",
    "1. da\n",
    "2. nu"
   ]
  },
  {
   "cell_type": "code",
   "execution_count": 33,
   "metadata": {},
   "outputs": [
    {
     "name": "stdout",
     "output_type": "stream",
     "text": [
      "Raspuns corect\n"
     ]
    }
   ],
   "source": [
    "def q():\n",
    "    return 1\n",
    "\n",
    "raspuns(26, q)"
   ]
  },
  {
   "cell_type": "markdown",
   "metadata": {},
   "source": [
    "Q27. Să fim mai exacţi. Cunoaştem cu aproximaţie media populaţiei (din sample-ul de votanţi), adică 0.6, aşa că putem calcula dispersia teoretică a distribuţiei binomiale. Apoi vom lua, folosind stats.norm.ppf(), exact quantila 95%. Refaceţi calculul pentru intervalul de confidenţă. Răspundeţi cu o listă de 2 elemente, rotunjite la 3 zecimale."
   ]
  },
  {
   "cell_type": "code",
   "execution_count": 34,
   "metadata": {},
   "outputs": [
    {
     "name": "stdout",
     "output_type": "stream",
     "text": [
      "Raspuns corect\n"
     ]
    }
   ],
   "source": [
    "def q():\n",
    "    return [0.504, 0.696]\n",
    "\n",
    "raspuns(27, q)"
   ]
  },
  {
   "cell_type": "markdown",
   "metadata": {},
   "source": [
    "Q28. Reluăm exemplul cu pompa nucleară care s-a defectat de 5 ori în decurs de 94.32 zile. Dorim să determinăm intervalul de confidenţă 95% pentru rata de defectare pe zi. Numărul de defectări este variabila aleatoare Poisson X cu parametrul $\\lambda * t$. Nu observăm rata de defectare, dar o estimăm ca $x / t$. Fie deci acest estimator $\\hat{\\lambda} = x/t$. Conform teoriei, estimatorul dispersiei ratei failure-urilor este $\\lambda/t$. Pentru că nu ştim $\\lambda$, folosim estimatorul, aşa încât aproximăm dispersia cu $\\hat{\\sigma^2} = \\hat{\\lambda}/t$.\n",
    "\n",
    "Aşadar, calculăm intervalul de confidenţă astfel:\n",
    "\n",
    "$\\hat{\\lambda} \\pm z_{97.5\\%} \\sqrt{\\hat{\\sigma}^2}$\n",
    "\n",
    "Daţi intervalul de confidenţă ca o listă cu 2 elemente (4 zecimale exacte)."
   ]
  },
  {
   "cell_type": "code",
   "execution_count": 35,
   "metadata": {},
   "outputs": [
    {
     "name": "stdout",
     "output_type": "stream",
     "text": [
      "Raspuns corect\n"
     ]
    }
   ],
   "source": [
    "def q():\n",
    "    return [0.0065, 0.0995]\n",
    "\n",
    "raspuns(28, q)"
   ]
  },
  {
   "cell_type": "markdown",
   "metadata": {},
   "source": [
    "Q29. Teorema centrală de limită ne spune că distribuţia mediilor este o distribuţie:\n",
    "\n",
    "1. Poisson\n",
    "2. normală\n",
    "3. anormală\n",
    "4. binomială\n",
    "5. standard"
   ]
  },
  {
   "cell_type": "code",
   "execution_count": 36,
   "metadata": {},
   "outputs": [
    {
     "name": "stdout",
     "output_type": "stream",
     "text": [
      "Raspuns corect\n"
     ]
    }
   ],
   "source": [
    "def q():\n",
    "    return 2\n",
    "\n",
    "raspuns(29, q)"
   ]
  },
  {
   "cell_type": "markdown",
   "metadata": {},
   "source": [
    "Q30. CLT ne spune că mediile au acea distribuţie centrată la:\n",
    "\n",
    "1. standard error\n",
    "2. media populaţiei\n",
    "3. dispersia populaţiei"
   ]
  },
  {
   "cell_type": "code",
   "execution_count": 37,
   "metadata": {},
   "outputs": [
    {
     "name": "stdout",
     "output_type": "stream",
     "text": [
      "Raspuns corect\n"
     ]
    }
   ],
   "source": [
    "def q():\n",
    "    return 2\n",
    "\n",
    "raspuns(30, q)"
   ]
  },
  {
   "cell_type": "markdown",
   "metadata": {},
   "source": [
    "Q31. CLT ne spune că mediile au acea distribuţie cu deviaţia standard egală cu:\n",
    "\n",
    "1. dispersia populaţiei\n",
    "2. media populaţiei\n",
    "3. standard error"
   ]
  },
  {
   "cell_type": "code",
   "execution_count": 38,
   "metadata": {},
   "outputs": [
    {
     "name": "stdout",
     "output_type": "stream",
     "text": [
      "Raspuns corect\n"
     ]
    }
   ],
   "source": [
    "def q():\n",
    "    return 3\n",
    "\n",
    "raspuns(31, q)"
   ]
  },
  {
   "cell_type": "markdown",
   "metadata": {},
   "source": [
    "Q32. CLT ne spune că mediile au întotdeauna o distribuţie normală indiferent de mărimea sample-ului:\n",
    "\n",
    "1. Adevărat\n",
    "2. Fals"
   ]
  },
  {
   "cell_type": "code",
   "execution_count": 39,
   "metadata": {},
   "outputs": [
    {
     "name": "stdout",
     "output_type": "stream",
     "text": [
      "Raspuns corect\n"
     ]
    }
   ],
   "source": [
    "def q():\n",
    "    return 2\n",
    "\n",
    "raspuns(32, q)"
   ]
  },
  {
   "cell_type": "markdown",
   "metadata": {},
   "source": [
    "Q33. Pentru a calcula intervalul de confidenţă pentru medie, se ia sample mean şi se adună şi se scade quantila normală relevantă înmulţit cu:\n",
    "\n",
    "1. dispersia / n\n",
    "2. media\n",
    "3. standard error\n",
    "4. dispersia"
   ]
  },
  {
   "cell_type": "code",
   "execution_count": 40,
   "metadata": {},
   "outputs": [
    {
     "name": "stdout",
     "output_type": "stream",
     "text": [
      "Raspuns corect\n"
     ]
    }
   ],
   "source": [
    "def q():\n",
    "    return 3\n",
    "\n",
    "raspuns(33, q)"
   ]
  },
  {
   "cell_type": "markdown",
   "metadata": {},
   "source": [
    "Q34. Dacă avem mai puţină variabilitate în date, atunci intervalul de confidenţă:\n",
    "\n",
    "1. se măreşte\n",
    "2. se micşorează"
   ]
  },
  {
   "cell_type": "code",
   "execution_count": 41,
   "metadata": {},
   "outputs": [
    {
     "name": "stdout",
     "output_type": "stream",
     "text": [
      "Raspuns corect\n"
     ]
    }
   ],
   "source": [
    "def q():\n",
    "    return 2\n",
    "\n",
    "raspuns(34, q)"
   ]
  },
  {
   "cell_type": "markdown",
   "metadata": {},
   "source": [
    "Q35. Dacă mărimea sample-ului pe care calculăm mediile creşte, atunci intervalul de confidenţă:\n",
    "\n",
    "1. se măreşte\n",
    "2. se micşorează"
   ]
  },
  {
   "cell_type": "code",
   "execution_count": 42,
   "metadata": {},
   "outputs": [
    {
     "name": "stdout",
     "output_type": "stream",
     "text": [
      "Raspuns corect\n"
     ]
    }
   ],
   "source": [
    "def q():\n",
    "    return 2\n",
    "\n",
    "raspuns(35, q)"
   ]
  },
  {
   "cell_type": "markdown",
   "metadata": {},
   "source": [
    "Q36. O setare rapidă pe care o putem face pentru un sample size mic în cazul unei distribuţii binomiale este să:\n",
    "    \n",
    "1. schimbăm datele\n",
    "2. adăugăm 2 succese şi să scădem 2 failures\n",
    "3. adăugăm 2 succese şi 4 failures\n",
    "4. adăugăm 2 succese şi 2 failures"
   ]
  },
  {
   "cell_type": "code",
   "execution_count": 45,
   "metadata": {},
   "outputs": [
    {
     "name": "stdout",
     "output_type": "stream",
     "text": [
      "Raspuns corect\n"
     ]
    }
   ],
   "source": [
    "def q():\n",
    "    return 4\n",
    "\n",
    "raspuns(36, q)"
   ]
  }
 ],
 "metadata": {
  "kernelspec": {
   "display_name": "Python 3",
   "language": "python",
   "name": "python3"
  },
  "language_info": {
   "codemirror_mode": {
    "name": "ipython",
    "version": 3
   },
   "file_extension": ".py",
   "mimetype": "text/x-python",
   "name": "python",
   "nbconvert_exporter": "python",
   "pygments_lexer": "ipython3",
   "version": "3.8.8"
  }
 },
 "nbformat": 4,
 "nbformat_minor": 2
}
