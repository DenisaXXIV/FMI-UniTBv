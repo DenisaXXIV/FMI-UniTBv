{
 "cells": [
  {
   "cell_type": "code",
   "execution_count": 1,
   "metadata": {},
   "outputs": [],
   "source": [
    "import numpy as np\n",
    "import matplotlib.pyplot as plt\n",
    "import scipy.stats as stats\n",
    "from scipy.special import binom\n",
    "import pandas as pd\n",
    "import math\n",
    "import pickle"
   ]
  },
  {
   "cell_type": "markdown",
   "metadata": {},
   "source": [
    "## Laborator: exerciţii şi probleme"
   ]
  },
  {
   "cell_type": "markdown",
   "metadata": {},
   "source": [
    "__Q1__. $\\bar{X}$ şi $\\bar{Y}$ sunt calculate ca medii ale $n$ variabile aleatoare iid provenind din distribuţiile cu medii $\\mu_x$ şi respectiv $\\mu_y$, însă având aceeaşi dispersie $\\sigma^2$. Care este dispersia (variance) pentru variabila aleatoare $\\bar{X} - \\bar{Y}$ ?\n",
    "\n",
    "R. "
   ]
  },
  {
   "cell_type": "code",
   "execution_count": 25,
   "metadata": {},
   "outputs": [
    {
     "name": "stdout",
     "output_type": "stream",
     "text": [
      "Var(X - Y) = 2 * 𝜎 ** 2\n"
     ]
    }
   ],
   "source": [
    "print('Var(X - Y) = 2 * 𝜎 ** 2')"
   ]
  },
  {
   "cell_type": "markdown",
   "metadata": {},
   "source": [
    " __Q2__. O variabilă aleatoare ia valoarea -4 cu probabilitatea .2 şi respectiv valoarea 1 cu probabilitatea 0.8. Care sunt media şi dispersia acestei variabile aleatoare?\n",
    " \n",
    " R."
   ]
  },
  {
   "cell_type": "code",
   "execution_count": 26,
   "metadata": {},
   "outputs": [
    {
     "name": "stdout",
     "output_type": "stream",
     "text": [
      "Media:  0.0 \n",
      "Dispersia: 4.0\n",
      "Media:  0.0 \n",
      "Dispersia: 18.4\n"
     ]
    }
   ],
   "source": [
    "import numpy as np\n",
    "values = np.array([-4, 1])\n",
    "probabilities = np.array([.2, 0.8])\n",
    "\n",
    "mean = np.sum(values * probabilities)\n",
    "dispersion = np.sum((values - mean) ** 2 * probabilities)\n",
    "\n",
    "print('Media: ', mean, '\\nDispersia:', dispersion)\n",
    "\n",
    "values2 = np.array([-8, 1, 5])\n",
    "probabilities2 = np.array([.2, 0.6, 0.2])\n",
    "\n",
    "mean2 = np.sum(values2 * probabilities2)\n",
    "dispersion2 = np.sum((values2 - mean2) ** 2 * probabilities2)\n",
    "\n",
    "print('Media: ', mean2, '\\nDispersia:', dispersion2)"
   ]
  },
  {
   "cell_type": "markdown",
   "metadata": {},
   "source": [
    "__Q3__. Considerăm următoarea PMF pentru o variabilă aleatoare:\n",
    "p = \\[.1, .2, .3, .4\\]\n",
    "x = range(2 : 6)\n",
    "\n",
    "Care este dispersia variabilei aleatoare?\n",
    "\n",
    "R."
   ]
  },
  {
   "cell_type": "code",
   "execution_count": 27,
   "metadata": {},
   "outputs": [
    {
     "name": "stdout",
     "output_type": "stream",
     "text": [
      "Dispersia: 1.0\n"
     ]
    }
   ],
   "source": [
    "probabilities = np.array([.1,.2,.3,.4])\n",
    "x_values = np.arange(2,6)\n",
    "\n",
    "mean = np.sum(probabilities * x_values)\n",
    "dispersion = np.sum((x_values - mean) ** 2 * probabilities)\n",
    "\n",
    "print('Dispersia:', dispersion)"
   ]
  },
  {
   "cell_type": "markdown",
   "metadata": {},
   "source": [
    "__Q4__. Presupunem că numărul de accesări web pentru un anume site are o distribuţie aproximativ normală de medie 100 de accesări pe zi şi deviaţie standard 10 accesări pe zi. Care este probabilitatea ca într-o zi să avem mai puţin de 93 accesări, exprimată ca procent?"
   ]
  },
  {
   "cell_type": "code",
   "execution_count": 28,
   "metadata": {},
   "outputs": [
    {
     "name": "stdout",
     "output_type": "stream",
     "text": [
      "24.20%\n"
     ]
    }
   ],
   "source": [
    "# R. \n",
    "print((\"%.2f%%\") % (stats.norm.cdf(x = 93, loc = 100, scale = 10) * 100))"
   ]
  },
  {
   "cell_type": "markdown",
   "metadata": {},
   "source": [
    "__Q5__. Aveţi un prieten care pretinde că poate discerne un vin bun de unul ieftin doar după gust. Deoarece nu îl credeţi, decideţi să-l supuneţi unui test. Presupunând că aveţi dreptate, într-un test dublu orb unde randomizaţi 6 perechi de varietăţi (Merlot, Sauvignon, ...) de vin ieftin şi respectiv vin scump. Care este şansa ca el să ghicească, la întâmplare, 5 sau 6 corect?"
   ]
  },
  {
   "cell_type": "code",
   "execution_count": 29,
   "metadata": {},
   "outputs": [
    {
     "name": "stdout",
     "output_type": "stream",
     "text": [
      "0.109375\n"
     ]
    }
   ],
   "source": [
    "# R. \n",
    "print(1 - stats.binom.cdf(k = 4, n = 6, p = 0.5))"
   ]
  },
  {
   "cell_type": "markdown",
   "metadata": {},
   "source": [
    "__Q6__. Numărul de accesări web este distribuit Poisson cu o medie de 16.5 accesări zilnice. Care este probabilitatea de a obţine 20 sau mai puţine în 2 zile?"
   ]
  },
  {
   "cell_type": "code",
   "execution_count": 30,
   "metadata": {},
   "outputs": [
    {
     "data": {
      "text/plain": [
       "0.010453906317688662"
      ]
     },
     "execution_count": 30,
     "metadata": {},
     "output_type": "execute_result"
    }
   ],
   "source": [
    "# R. \n",
    "stats.poisson.cdf(20,mu=16.5*2)"
   ]
  },
  {
   "cell_type": "markdown",
   "metadata": {},
   "source": [
    "__Q7__. Considerăm dataset-ul father.son. Folosind CLT şi presupunând că taţii sunt un sample random din populaţie, care este intervalul de confidenţă 95% pentru media înălţimii lor?"
   ]
  },
  {
   "cell_type": "code",
   "execution_count": 33,
   "metadata": {},
   "outputs": [
    {
     "name": "stdout",
     "output_type": "stream",
     "text": [
      "[67.52331768 67.85087605]\n",
      "(67.52331767741197, 67.85087605171606)\n"
     ]
    }
   ],
   "source": [
    "# R. \n",
    "father_son = pd.read_csv('father_son.csv')\n",
    "x = father_son['fheight'].values\n",
    "print(np.mean(x)+np.array([-1,1])*stats.norm.ppf(0.975)*np.std(x)/np.sqrt(len(x)))\n",
    "print(stats.norm.interval(.95, loc = np.mean(x), \n",
    "      scale = np.std(x) / np.sqrt(x.shape[0])))"
   ]
  },
  {
   "cell_type": "markdown",
   "metadata": {},
   "source": [
    "__Q8__. Considerăm o distribuţie uniformă. Extragem 100 de valori din această distribuţie uniformă cu medie 0.5 şi dispersie 1/12 şi calculăm media lor $\\bar{X}$. Care este probabilitatea de a obţine o medie mai mare sau egală cu 0.51?"
   ]
  },
  {
   "cell_type": "code",
   "execution_count": 34,
   "metadata": {},
   "outputs": [
    {
     "name": "stdout",
     "output_type": "stream",
     "text": [
      "0.36451724476940184\n"
     ]
    }
   ],
   "source": [
    "# R. \n",
    "print(stats.norm.sf(0.51, loc=0.5, scale=np.sqrt(1/12/100)))"
   ]
  },
  {
   "cell_type": "markdown",
   "metadata": {},
   "source": [
    "__Q9__. Rata de accesări a unui site web este de 10 pe minut, monitorizată timp de o oră. Care este intervalul de confidenţă Poisson a ratei de evenimente pe minut?"
   ]
  },
  {
   "cell_type": "code",
   "execution_count": 35,
   "metadata": {},
   "outputs": [
    {
     "name": "stdout",
     "output_type": "stream",
     "text": [
      "(9.2, 10.8)\n"
     ]
    }
   ],
   "source": [
    "# R.\n",
    "low, high = stats.poisson.interval(.95, mu=10*60)\n",
    "print((low/60, high/60))"
   ]
  },
  {
   "cell_type": "markdown",
   "metadata": {},
   "source": [
    "__Q10__. Considerăm datasetul mtcars. Construiţi intervalul T de confidenţă 95% pentru MPG (miles per gallon) comparând maşinile cu 4 respectiv 6 cilindri (diferenţa: setul 4 - setul 6), presupunând aceeaşi dispersie în cele două grupuri.\n",
    "\n",
    "Observând intervalul de confidenţăm, ce concluzionaţi cu privire la consum?"
   ]
  },
  {
   "cell_type": "code",
   "execution_count": 37,
   "metadata": {},
   "outputs": [
    {
     "data": {
      "text/html": [
       "<div>\n",
       "<style scoped>\n",
       "    .dataframe tbody tr th:only-of-type {\n",
       "        vertical-align: middle;\n",
       "    }\n",
       "\n",
       "    .dataframe tbody tr th {\n",
       "        vertical-align: top;\n",
       "    }\n",
       "\n",
       "    .dataframe thead th {\n",
       "        text-align: right;\n",
       "    }\n",
       "</style>\n",
       "<table border=\"1\" class=\"dataframe\">\n",
       "  <thead>\n",
       "    <tr style=\"text-align: right;\">\n",
       "      <th></th>\n",
       "      <th>Unnamed: 0</th>\n",
       "      <th>mpg</th>\n",
       "      <th>cyl</th>\n",
       "      <th>disp</th>\n",
       "      <th>hp</th>\n",
       "      <th>drat</th>\n",
       "      <th>wt</th>\n",
       "      <th>qsec</th>\n",
       "      <th>vs</th>\n",
       "      <th>am</th>\n",
       "      <th>gear</th>\n",
       "      <th>carb</th>\n",
       "    </tr>\n",
       "  </thead>\n",
       "  <tbody>\n",
       "    <tr>\n",
       "      <th>0</th>\n",
       "      <td>Mazda RX4</td>\n",
       "      <td>21.0</td>\n",
       "      <td>6</td>\n",
       "      <td>160.0</td>\n",
       "      <td>110</td>\n",
       "      <td>3.90</td>\n",
       "      <td>2.620</td>\n",
       "      <td>16.46</td>\n",
       "      <td>0</td>\n",
       "      <td>1</td>\n",
       "      <td>4</td>\n",
       "      <td>4</td>\n",
       "    </tr>\n",
       "    <tr>\n",
       "      <th>1</th>\n",
       "      <td>Mazda RX4 Wag</td>\n",
       "      <td>21.0</td>\n",
       "      <td>6</td>\n",
       "      <td>160.0</td>\n",
       "      <td>110</td>\n",
       "      <td>3.90</td>\n",
       "      <td>2.875</td>\n",
       "      <td>17.02</td>\n",
       "      <td>0</td>\n",
       "      <td>1</td>\n",
       "      <td>4</td>\n",
       "      <td>4</td>\n",
       "    </tr>\n",
       "    <tr>\n",
       "      <th>2</th>\n",
       "      <td>Datsun 710</td>\n",
       "      <td>22.8</td>\n",
       "      <td>4</td>\n",
       "      <td>108.0</td>\n",
       "      <td>93</td>\n",
       "      <td>3.85</td>\n",
       "      <td>2.320</td>\n",
       "      <td>18.61</td>\n",
       "      <td>1</td>\n",
       "      <td>1</td>\n",
       "      <td>4</td>\n",
       "      <td>1</td>\n",
       "    </tr>\n",
       "    <tr>\n",
       "      <th>3</th>\n",
       "      <td>Hornet 4 Drive</td>\n",
       "      <td>21.4</td>\n",
       "      <td>6</td>\n",
       "      <td>258.0</td>\n",
       "      <td>110</td>\n",
       "      <td>3.08</td>\n",
       "      <td>3.215</td>\n",
       "      <td>19.44</td>\n",
       "      <td>1</td>\n",
       "      <td>0</td>\n",
       "      <td>3</td>\n",
       "      <td>1</td>\n",
       "    </tr>\n",
       "    <tr>\n",
       "      <th>4</th>\n",
       "      <td>Hornet Sportabout</td>\n",
       "      <td>18.7</td>\n",
       "      <td>8</td>\n",
       "      <td>360.0</td>\n",
       "      <td>175</td>\n",
       "      <td>3.15</td>\n",
       "      <td>3.440</td>\n",
       "      <td>17.02</td>\n",
       "      <td>0</td>\n",
       "      <td>0</td>\n",
       "      <td>3</td>\n",
       "      <td>2</td>\n",
       "    </tr>\n",
       "  </tbody>\n",
       "</table>\n",
       "</div>"
      ],
      "text/plain": [
       "          Unnamed: 0   mpg  cyl   disp   hp  drat     wt   qsec  vs  am  gear  \\\n",
       "0          Mazda RX4  21.0    6  160.0  110  3.90  2.620  16.46   0   1     4   \n",
       "1      Mazda RX4 Wag  21.0    6  160.0  110  3.90  2.875  17.02   0   1     4   \n",
       "2         Datsun 710  22.8    4  108.0   93  3.85  2.320  18.61   1   1     4   \n",
       "3     Hornet 4 Drive  21.4    6  258.0  110  3.08  3.215  19.44   1   0     3   \n",
       "4  Hornet Sportabout  18.7    8  360.0  175  3.15  3.440  17.02   0   0     3   \n",
       "\n",
       "   carb  \n",
       "0     4  \n",
       "1     4  \n",
       "2     1  \n",
       "3     1  \n",
       "4     2  "
      ]
     },
     "execution_count": 37,
     "metadata": {},
     "output_type": "execute_result"
    }
   ],
   "source": [
    "mtcars = pd.read_csv('mtcars.csv')\n",
    "mtcars.head()"
   ]
  },
  {
   "cell_type": "code",
   "execution_count": 38,
   "metadata": {},
   "outputs": [
    {
     "data": {
      "text/html": [
       "<div>\n",
       "<style scoped>\n",
       "    .dataframe tbody tr th:only-of-type {\n",
       "        vertical-align: middle;\n",
       "    }\n",
       "\n",
       "    .dataframe tbody tr th {\n",
       "        vertical-align: top;\n",
       "    }\n",
       "\n",
       "    .dataframe thead th {\n",
       "        text-align: right;\n",
       "    }\n",
       "</style>\n",
       "<table border=\"1\" class=\"dataframe\">\n",
       "  <thead>\n",
       "    <tr style=\"text-align: right;\">\n",
       "      <th></th>\n",
       "      <th>Unnamed: 0</th>\n",
       "      <th>mpg</th>\n",
       "      <th>cyl</th>\n",
       "      <th>disp</th>\n",
       "      <th>hp</th>\n",
       "      <th>drat</th>\n",
       "      <th>wt</th>\n",
       "      <th>qsec</th>\n",
       "      <th>vs</th>\n",
       "      <th>am</th>\n",
       "      <th>gear</th>\n",
       "      <th>carb</th>\n",
       "    </tr>\n",
       "  </thead>\n",
       "  <tbody>\n",
       "    <tr>\n",
       "      <th>0</th>\n",
       "      <td>Mazda RX4</td>\n",
       "      <td>21.0</td>\n",
       "      <td>6</td>\n",
       "      <td>160.0</td>\n",
       "      <td>110</td>\n",
       "      <td>3.90</td>\n",
       "      <td>2.620</td>\n",
       "      <td>16.46</td>\n",
       "      <td>0</td>\n",
       "      <td>1</td>\n",
       "      <td>4</td>\n",
       "      <td>4</td>\n",
       "    </tr>\n",
       "    <tr>\n",
       "      <th>1</th>\n",
       "      <td>Mazda RX4 Wag</td>\n",
       "      <td>21.0</td>\n",
       "      <td>6</td>\n",
       "      <td>160.0</td>\n",
       "      <td>110</td>\n",
       "      <td>3.90</td>\n",
       "      <td>2.875</td>\n",
       "      <td>17.02</td>\n",
       "      <td>0</td>\n",
       "      <td>1</td>\n",
       "      <td>4</td>\n",
       "      <td>4</td>\n",
       "    </tr>\n",
       "    <tr>\n",
       "      <th>3</th>\n",
       "      <td>Hornet 4 Drive</td>\n",
       "      <td>21.4</td>\n",
       "      <td>6</td>\n",
       "      <td>258.0</td>\n",
       "      <td>110</td>\n",
       "      <td>3.08</td>\n",
       "      <td>3.215</td>\n",
       "      <td>19.44</td>\n",
       "      <td>1</td>\n",
       "      <td>0</td>\n",
       "      <td>3</td>\n",
       "      <td>1</td>\n",
       "    </tr>\n",
       "    <tr>\n",
       "      <th>5</th>\n",
       "      <td>Valiant</td>\n",
       "      <td>18.1</td>\n",
       "      <td>6</td>\n",
       "      <td>225.0</td>\n",
       "      <td>105</td>\n",
       "      <td>2.76</td>\n",
       "      <td>3.460</td>\n",
       "      <td>20.22</td>\n",
       "      <td>1</td>\n",
       "      <td>0</td>\n",
       "      <td>3</td>\n",
       "      <td>1</td>\n",
       "    </tr>\n",
       "    <tr>\n",
       "      <th>9</th>\n",
       "      <td>Merc 280</td>\n",
       "      <td>19.2</td>\n",
       "      <td>6</td>\n",
       "      <td>167.6</td>\n",
       "      <td>123</td>\n",
       "      <td>3.92</td>\n",
       "      <td>3.440</td>\n",
       "      <td>18.30</td>\n",
       "      <td>1</td>\n",
       "      <td>0</td>\n",
       "      <td>4</td>\n",
       "      <td>4</td>\n",
       "    </tr>\n",
       "    <tr>\n",
       "      <th>10</th>\n",
       "      <td>Merc 280C</td>\n",
       "      <td>17.8</td>\n",
       "      <td>6</td>\n",
       "      <td>167.6</td>\n",
       "      <td>123</td>\n",
       "      <td>3.92</td>\n",
       "      <td>3.440</td>\n",
       "      <td>18.90</td>\n",
       "      <td>1</td>\n",
       "      <td>0</td>\n",
       "      <td>4</td>\n",
       "      <td>4</td>\n",
       "    </tr>\n",
       "    <tr>\n",
       "      <th>29</th>\n",
       "      <td>Ferrari Dino</td>\n",
       "      <td>19.7</td>\n",
       "      <td>6</td>\n",
       "      <td>145.0</td>\n",
       "      <td>175</td>\n",
       "      <td>3.62</td>\n",
       "      <td>2.770</td>\n",
       "      <td>15.50</td>\n",
       "      <td>0</td>\n",
       "      <td>1</td>\n",
       "      <td>5</td>\n",
       "      <td>6</td>\n",
       "    </tr>\n",
       "  </tbody>\n",
       "</table>\n",
       "</div>"
      ],
      "text/plain": [
       "        Unnamed: 0   mpg  cyl   disp   hp  drat     wt   qsec  vs  am  gear  \\\n",
       "0        Mazda RX4  21.0    6  160.0  110  3.90  2.620  16.46   0   1     4   \n",
       "1    Mazda RX4 Wag  21.0    6  160.0  110  3.90  2.875  17.02   0   1     4   \n",
       "3   Hornet 4 Drive  21.4    6  258.0  110  3.08  3.215  19.44   1   0     3   \n",
       "5          Valiant  18.1    6  225.0  105  2.76  3.460  20.22   1   0     3   \n",
       "9         Merc 280  19.2    6  167.6  123  3.92  3.440  18.30   1   0     4   \n",
       "10       Merc 280C  17.8    6  167.6  123  3.92  3.440  18.90   1   0     4   \n",
       "29    Ferrari Dino  19.7    6  145.0  175  3.62  2.770  15.50   0   1     5   \n",
       "\n",
       "    carb  \n",
       "0      4  \n",
       "1      4  \n",
       "3      1  \n",
       "5      1  \n",
       "9      4  \n",
       "10     4  \n",
       "29     6  "
      ]
     },
     "execution_count": 38,
     "metadata": {},
     "output_type": "execute_result"
    }
   ],
   "source": [
    "mtcars_4 = mtcars[mtcars['cyl'] == 4]\n",
    "mtcars_6 = mtcars[mtcars['cyl'] == 6]\n",
    "\n",
    "mtcars_6"
   ]
  },
  {
   "cell_type": "code",
   "execution_count": 39,
   "metadata": {},
   "outputs": [
    {
     "name": "stdout",
     "output_type": "stream",
     "text": [
      "Interval confidenta 4 cilindri:  [24.123 29.205]\n",
      "Interval confidenta 6 cilindri:  [18.746 20.74 ]\n",
      "Diferenta intre 4 cilindri si 6 cilindri:  [5.377 8.465]\n",
      "Concluzie: masinile cu 4 cilindri consuma mai putin decat cele cu 6 cilindri\n"
     ]
    }
   ],
   "source": [
    "mpg_4 = mtcars_4['mpg'].values\n",
    "mpg_6 = mtcars_6['mpg'].values\n",
    "\n",
    "#conf_int = sample_mean +/- conf_level * std_dev / sqrt(sample_len)\n",
    "\n",
    "iconf_4 = np.mean(mpg_4) + np.array([-1, 1]) * stats.norm.ppf(0.975) * np.std(mpg_4) / np.sqrt(len(mpg_4))\n",
    "iconf_6 = np.mean(mpg_6) + np.array([-1, 1]) * stats.norm.ppf(0.975) * np.std(mpg_6) / np.sqrt(len(mpg_6))\n",
    "\n",
    "print('Interval confidenta 4 cilindri: ', np.round(iconf_4, 3))\n",
    "print('Interval confidenta 6 cilindri: ', np.round(iconf_6, 3))\n",
    "print('Diferenta intre 4 cilindri si 6 cilindri: ', np.round(iconf_4 - iconf_6, 3))\n",
    "print('Concluzie: masinile cu 4 cilindri consuma mai putin decat cele cu 6 cilindri')"
   ]
  },
  {
   "cell_type": "markdown",
   "metadata": {},
   "source": [
    "__Q11__. Considerăm din nou datasetul mtcars. Folosiţi un two group T test pentru a testa ipoteza că cele două grupuri de maşini cu 4 respectiv 6 cilindri au acelaşi consum MPG. Folosiţi un test two sided cu dispersii diferite. Daţi P-value pentru acest two sided test."
   ]
  },
  {
   "cell_type": "code",
   "execution_count": 42,
   "metadata": {},
   "outputs": [
    {
     "name": "stdout",
     "output_type": "stream",
     "text": [
      "df:  15.035180011917006\n",
      "statistic:  4.9693566771643605\n",
      "95% percentile:  1.7527810366681962\n",
      "reject H_0\n",
      "T confidence interval:  (2.7874860626167948, 11.054072378941646)\n",
      "p_value:  0.9999165411782946\n",
      "two-sided:  1.9998330823565893\n"
     ]
    }
   ],
   "source": [
    "#Ipoteza nula H_0: mpg_4 == mpg_6\n",
    "#Ipoteza alternativa H_a: mpg_4 != mpg_6\n",
    "\n",
    "sample_mean_4 = np.mean(mpg_4)\n",
    "std_dev_4 = np.std(mpg_4)\n",
    "sample_len_4 = len(mpg_4)\n",
    "\n",
    "sample_mean_6 = np.mean(mpg_6)\n",
    "std_dev_6 = np.std(mpg_6)\n",
    "sample_len_6 = len(mpg_6)\n",
    "\n",
    "scale = std_dev_4 ** 2 / sample_len_4 + std_dev_6 ** 2 / sample_len_6\n",
    "\n",
    "#Statistica t = (sample_mean(4) - sample_mean(6)) / sqrt(std_dev(4)^2 / sample_len(4) + std_dev(6)^2 / sample_len(6))\n",
    "statistic = stats.ttest_ind_from_stats(sample_mean_4, std_dev_4, sample_len_4,\n",
    "                                       sample_mean_6, std_dev_6, sample_len_6,\n",
    "                                       equal_var=False).statistic\n",
    "\n",
    "percentile = stats.t.ppf(0.95, df=df)\n",
    "\n",
    "t_conf = stats.t.interval(0.95, loc = sample_mean_4 - sample_mean_6, scale = scale, df = df)\n",
    "\n",
    "p_value = stats.t.cdf(statistic, df=df)\n",
    "\n",
    "print('df: ', df)\n",
    "print('statistic: ', statistic)\n",
    "print('95% percentile: ', percentile)\n",
    "print('reject H_0' if statistic > percentile else 'fail to reject H_0')\n",
    "print('T confidence interval: ', t_conf)\n",
    "print('p_value: ', p_value)\n",
    "print('two-sided: ', 2 * p_value)"
   ]
  },
  {
   "cell_type": "markdown",
   "metadata": {},
   "source": [
    "__Q12__. Un site web a fost monitorizat pentru un an şi a primit 520 vizite pe zi. În primele 30 de zile ale anului următor, site-ul a primit 15800 vizite. Presupunând că vizitele au o distribuţie Poisson, daţi P-value pentru testul one sided pentru ipoteza că vizitele au sporit faţă de anul trecut. Este rejectată $H_0$? Verificaţi concluzia, calculînd şi intervalul de confidenţă."
   ]
  },
  {
   "cell_type": "code",
   "execution_count": 41,
   "metadata": {},
   "outputs": [
    {
     "name": "stdout",
     "output_type": "stream",
     "text": [
      "statistic:  -2.6666666666666514\n",
      "95% percentile: 1.7530503556925547\n",
      "fail to reject H_0\n",
      "verificare: media poate fi in intevalul\n",
      "\t (239.3591431680225, 800.6408568319775)\n",
      "P-value:  0.2164677672705525\n"
     ]
    }
   ],
   "source": [
    "#Ipoteza nula H_0: prev_year <= curr_year\n",
    "#Ipoteza alternativa H_a: prev_year >= curr_year\n",
    "\n",
    "prev_year_mean = 520\n",
    "curr_year_mean = 15800 / 30\n",
    "\n",
    "print('statistic: ', (prev_year_mean - curr_year_mean) * np.sqrt(16) / 10)\n",
    "print('95% percentile:', stats.t.ppf(0.95, df=15))\n",
    "print('reject H_0' \n",
    "      if (prev_year_mean - curr_year_mean) * np.sqrt(16) / 10 > stats.t.ppf(0.95, df=15) \n",
    "      else 'fail to reject H_0'\n",
    ")\n",
    "print('verificare: media poate fi in intevalul\\n\\t',\n",
    "    stats.t.interval(\n",
    "        0.95, \n",
    "        loc = prev_year_mean, \n",
    "        scale = curr_year_mean / np.sqrt(16), \n",
    "        df=15\n",
    "    )\n",
    ")\n",
    "print('P-value: ', 1 - stats.t.cdf(statistic, df = 15))"
   ]
  },
  {
   "cell_type": "markdown",
   "metadata": {},
   "source": [
    "__Q14.__ Aveţi o monedă şi suspectaţi că este biased, că dă mai multe Heads decât Tails. Obţineţi 55 Heads din 100 de aruncări. Daţi valoarea exactă P-value pentru ipoteza ca moneda să fie non-biased (fair). Câte aruncări din 100 trebuie să iasă Heads ca să începeţi să aveţi suspiciuni întemeiate (95% confidenţă)?"
   ]
  },
  {
   "cell_type": "code",
   "execution_count": 40,
   "metadata": {},
   "outputs": [
    {
     "name": "stdout",
     "output_type": "stream",
     "text": [
      "P-value:  0.07958923738717888\n"
     ]
    }
   ],
   "source": [
    "#Ipoteza nula H_0: coin = non-biased (50:50)\n",
    "#Ipoteza alternativa H_a: coin = biased (55:45)\n",
    "\n",
    "p_value = stats.binom.pmf(50, n= 100, p= 0.5)\n",
    "print('P-value: ', p_value)"
   ]
  }
 ],
 "metadata": {
  "kernelspec": {
   "display_name": "Python 3",
   "language": "python",
   "name": "python3"
  },
  "language_info": {
   "codemirror_mode": {
    "name": "ipython",
    "version": 3
   },
   "file_extension": ".py",
   "mimetype": "text/x-python",
   "name": "python",
   "nbconvert_exporter": "python",
   "pygments_lexer": "ipython3",
   "version": "3.8.8"
  }
 },
 "nbformat": 4,
 "nbformat_minor": 2
}
