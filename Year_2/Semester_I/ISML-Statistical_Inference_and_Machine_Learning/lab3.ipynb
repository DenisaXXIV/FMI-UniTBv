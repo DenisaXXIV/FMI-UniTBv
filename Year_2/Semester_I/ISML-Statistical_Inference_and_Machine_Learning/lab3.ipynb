{
 "cells": [
  {
   "cell_type": "code",
   "execution_count": 1,
   "metadata": {},
   "outputs": [],
   "source": [
    "import numpy as np\n",
    "import matplotlib.pyplot as plt\n",
    "import scipy.stats as stats\n",
    "import pandas as pd\n",
    "import pickle"
   ]
  },
  {
   "cell_type": "code",
   "execution_count": 2,
   "metadata": {},
   "outputs": [],
   "source": [
    "def r(n, r):  \n",
    "    enc = b'\\x80\\x03}q\\x00(K\\x01G@\\x0c\\x00\\x00\\x00\\x00\\x00\\x00K\\x02G@\\x11UL\\x98_\\x06\\xf7K\\x03G@\\x05Uf\\xcfA\\xf2\\x13K\\x04G@\\x0c\\x00\\x00\\x00\\x00\\x00\\x00K\\x05K\\x01K\\x07K\\x03K\\x08K\\x02K\\tK\\x01K\\nX\\x08\\x00\\x00\\x00nu/da/daq\\x01K\\x0bG@\\x0c\\x00\\x00\\x00\\x00\\x00\\x00K\\x0cG@.U\\x81\\x06$\\xdd/K\\rG@\\x07V\\x04\\x18\\x93t\\xbcK\\x0eK\\x01K\\x0fK\\x03K\\x10K\\x01K\\x11K\\x04u.'\n",
    "    d = pickle.loads(enc)\n",
    "    if d.get(n) is not None and d[n] == r: return True\n",
    "    return False"
   ]
  },
  {
   "cell_type": "markdown",
   "metadata": {},
   "source": [
    "# Laborator"
   ]
  },
  {
   "cell_type": "markdown",
   "metadata": {},
   "source": [
    "## Valoare aşteptată (medie)"
   ]
  },
  {
   "cell_type": "markdown",
   "metadata": {},
   "source": [
    "Valoarea aşteptată a unei variabile aleatoare X, E(X), este o măsură a tendinţei centrale a acesteia. Pentru o variabilă aleatoare X cu probability mass function PMF(X), valoarea aşteptată E(X) este definită ca suma peste toate valorile lui x, din x * p(x). E(x) reprezintă centrul de masă al unor 'bare de metal' poziţionate pe poziţiile x şi 'înalte' de valoarea p(x)."
   ]
  },
  {
   "cell_type": "markdown",
   "metadata": {},
   "source": [
    "Un alt nume pentru valoarea aşteptată este media. De regulă, prin medie înţelegeam suma a n numere împărţită la n. Această definiţie este consistentă cu valoarea aşteptată E(X) pentru cazul în care toate numerele sunt echiprobabile (aceeaşi înălţime a 'barelor de oţel' de mai sus)."
   ]
  },
  {
   "cell_type": "markdown",
   "metadata": {},
   "source": [
    "Q1. Considerăm variabila aleatoare X care corespunde unei aruncări cu zarul. Dacă zarul este ideal (corect), toate feţele pot ieşi cu aceeaşi probabilitate. Care este valoarea aşteptată a lui X?"
   ]
  },
  {
   "cell_type": "code",
   "execution_count": 3,
   "metadata": {},
   "outputs": [
    {
     "name": "stdout",
     "output_type": "stream",
     "text": [
      "Raspuns corect\n"
     ]
    }
   ],
   "source": [
    "def q():\n",
    "    return 3.5\n",
    "\n",
    "print('Raspuns %s' % ('corect' if r(1, q()) else 'incorect'))"
   ]
  },
  {
   "cell_type": "markdown",
   "metadata": {},
   "source": [
    "Q2. Presupunem că avem trei zaruri, primele două trucate, cu centrul de greutate diferit de mijloc, în timp ce al treilea este un zar ideal. Pentru fiecare din cele trei definim probability mass function caracteristică zarului:"
   ]
  },
  {
   "cell_type": "code",
   "execution_count": 4,
   "metadata": {},
   "outputs": [],
   "source": [
    "pmf1 = [0.04761905, 0.09523810, 0.14285714, 0.19047619, 0.23809524, 0.28571428]\n",
    "pmf2 = [0.28571429, 0.23809524, 0.19047619, 0.14285714, 0.09523810, 0.04761904]\n",
    "pmf3 = [0.16666666, 0.16666666, 0.16666667, 0.16666667, 0.16666667, 0.16666667]"
   ]
  },
  {
   "cell_type": "markdown",
   "metadata": {},
   "source": [
    "Care este valoarea aşteptată pentru primul zar? Daţi răspunsul cu 4 zecimale. Definiţi funcţia expected() de mai jos. Verificaţi că aţi scris corect funcţia folosind valoarea aşteptată pentru un zar corect."
   ]
  },
  {
   "cell_type": "code",
   "execution_count": 5,
   "metadata": {},
   "outputs": [
    {
     "name": "stdout",
     "output_type": "stream",
     "text": [
      "Raspuns corect\n"
     ]
    }
   ],
   "source": [
    "def expected(pmf):\n",
    "    return 0.04761905*1+ 0.09523810*2+ 0.14285714*3+ 0.19047619*4+ 0.23809524*5+ 0.28571428*6\n",
    "\n",
    "def q():\n",
    "    return round(expected(pmf1), 4)\n",
    "\n",
    "print('Raspuns %s' % ('corect' if r(2, q()) else 'incorect'))"
   ]
  },
  {
   "cell_type": "markdown",
   "metadata": {},
   "source": [
    "Q3. Care este valoarea aşteptată pentru al doilea zar? (tot patru zecimale)."
   ]
  },
  {
   "cell_type": "code",
   "execution_count": 6,
   "metadata": {},
   "outputs": [
    {
     "name": "stdout",
     "output_type": "stream",
     "text": [
      "Raspuns corect\n"
     ]
    }
   ],
   "source": [
    "def q():\n",
    "    return round(0.28571429*1+ 0.23809524*2+ 0.19047619*3+ 0.14285714*4+ 0.09523810*5+ 0.04761904*6, 4)\n",
    "\n",
    "print('Raspuns %s' % ('corect' if r(3, q()) else 'incorect'))"
   ]
  },
  {
   "cell_type": "markdown",
   "metadata": {},
   "source": [
    "Pentru două variabile aleatoare X1 şi X2, valoarea aşteptată a mediei lor se poate calcula ca media valorilor lor aşteptate. Aceasta datorită proprietăţii de liniaritate a valorii aşteptate:\n",
    "$E(\\alpha X_1 + \\beta X_2) = \\alpha E(X_1) + \\beta E(X_2)$"
   ]
  },
  {
   "cell_type": "markdown",
   "metadata": {},
   "source": [
    "Q4. Care este valoarea aşteptată pentru media variabilelor aleatoare reprezentate de primele două zaruri?\n",
    "\n",
    "__Hint1__: funcţia zip(l1, l2) parcurge două liste prin construcţia de perechi cu elemente din ambele liste. \n",
    "Iteraţi de exemplu zip(range(3), range(1, 4)).\n",
    "\n",
    "__Hint2__: folosiţi funcţia round(x, 4)"
   ]
  },
  {
   "cell_type": "code",
   "execution_count": 7,
   "metadata": {},
   "outputs": [
    {
     "name": "stdout",
     "output_type": "stream",
     "text": [
      "Raspuns corect\n"
     ]
    }
   ],
   "source": [
    "def q():\n",
    "    return (round(0.04761905*1+ 0.09523810*2+ 0.14285714*3+ 0.19047619*4+ 0.23809524*5+ 0.28571428*6, 4)+round(0.28571429*1+ 0.23809524*2+ 0.19047619*3+ 0.14285714*4+ 0.09523810*5+ 0.04761904*6, 4))/2\n",
    "\n",
    "print('Raspuns %s' % ('corect' if r(4, q()) else 'incorect'))"
   ]
  },
  {
   "cell_type": "code",
   "execution_count": 8,
   "metadata": {},
   "outputs": [
    {
     "data": {
      "image/png": "[encoded data removed]",
      "text/plain": [
       "<Figure size 1080x360 with 2 Axes>"
      ]
     },
     "metadata": {
      "needs_background": "light"
     },
     "output_type": "display_data"
    }
   ],
   "source": [
    "x = np.linspace(-.5, 1.5, 200)\n",
    "y = np.logical_and(x >= 0, x <= 1)*1.0\n",
    "\n",
    "fig, (ax1, ax2) = plt.subplots(1, 2, figsize=(15, 5))\n",
    "ax1.plot(x, y)\n",
    "ax1.set_title('p(x)')\n",
    "ax2.plot(x, x*y)\n",
    "ax2.set_title('x * p(x)')\n",
    "plt.show()"
   ]
  },
  {
   "cell_type": "markdown",
   "metadata": {},
   "source": [
    "Q5. Pentru densitatea de probabilitate f(x) dată mai sus, care este valoarea aşteptată pentru E(X)?"
   ]
  },
  {
   "cell_type": "code",
   "execution_count": 9,
   "metadata": {},
   "outputs": [
    {
     "name": "stdout",
     "output_type": "stream",
     "text": [
      "Raspuns corect\n"
     ]
    }
   ],
   "source": [
    "def q():\n",
    "    return 1\n",
    "\n",
    "print('Raspuns %s' % ('corect' if r(5, q()) else 'incorect'))"
   ]
  },
  {
   "cell_type": "markdown",
   "metadata": {},
   "source": [
    "Q6. Mai jos este dată o populaţie de 6 numere, sub forma unui array Numpy. Funcţia Numpy mean() este folosită pentru a calcula media sa:"
   ]
  },
  {
   "cell_type": "code",
   "execution_count": 10,
   "metadata": {},
   "outputs": [
    {
     "name": "stdout",
     "output_type": "stream",
     "text": [
      "valoarea aşteptată (media): 9.0\n"
     ]
    }
   ],
   "source": [
    "population = np.array([1, 4, 7, 10, 13, 19])\n",
    "print('valoarea aşteptată (media):', np.mean(population))"
   ]
  },
  {
   "cell_type": "markdown",
   "metadata": {},
   "source": [
    "Mai departe, din această populaţie vom selecta, în mod aleator, un sample de trei valori. Vom face acest lucru de 1000 de ori (deci 1000 de sample-uri). Variabila $idx$ de mai jos descrie care din elementele populaţiei a fost selectat aleator - va fi o matrice de 1000 de linii x 3 coloane;"
   ]
  },
  {
   "cell_type": "code",
   "execution_count": 11,
   "metadata": {},
   "outputs": [
    {
     "name": "stdout",
     "output_type": "stream",
     "text": [
      "[[1 0 4]\n",
      " [5 3 5]\n",
      " [3 4 4]\n",
      " [5 4 2]\n",
      " [0 2 5]]\n"
     ]
    }
   ],
   "source": [
    "idx = np.random.randint(low=0, high=len(population), size=(1000, 3))\n",
    "\n",
    "# vedem primele 5 linii ale ei:\n",
    "print(idx[:5, :])"
   ]
  },
  {
   "cell_type": "markdown",
   "metadata": {},
   "source": [
    "Folosind variabila $idx$, prin proiecţie pe populaţie, vom obţine cele 1000 de sample-uri (matricea rezultată are aceleaşi dimensiuni):"
   ]
  },
  {
   "cell_type": "code",
   "execution_count": 12,
   "metadata": {},
   "outputs": [
    {
     "name": "stdout",
     "output_type": "stream",
     "text": [
      "forma matricii: (1000, 3) (linii, coloane)\n"
     ]
    }
   ],
   "source": [
    "samples = population[idx]\n",
    "print('forma matricii: %s (linii, coloane)' % str(samples.shape))"
   ]
  },
  {
   "cell_type": "markdown",
   "metadata": {},
   "source": [
    "Pentru fiecare linie, calculăm media (observaţi argumentul axis; acesta indică axa pentru care se face funcţia, aici 1 înseamnă că se face pe linii; pe coloane ar fi fost axis=0):"
   ]
  },
  {
   "cell_type": "code",
   "execution_count": 13,
   "metadata": {},
   "outputs": [
    {
     "data": {
      "text/plain": [
       "array([ 6., 16., 12., 13.,  9.])"
      ]
     },
     "execution_count": 13,
     "metadata": {},
     "output_type": "execute_result"
    }
   ],
   "source": [
    "means = np.mean(samples, axis=1)\n",
    "\n",
    "# iată primele 5 medii:\n",
    "means[:5]"
   ]
  },
  {
   "cell_type": "markdown",
   "metadata": {},
   "source": [
    "Sample mean pe care o tot socotim de 1000 de ori are şi ea o distribuţie. Media acestei distribuţii este un estimator pentru media populaţiei:"
   ]
  },
  {
   "cell_type": "code",
   "execution_count": 14,
   "metadata": {},
   "outputs": [
    {
     "data": {
      "text/plain": [
       "9.002"
      ]
     },
     "execution_count": 14,
     "metadata": {},
     "output_type": "execute_result"
    }
   ],
   "source": [
    "np.mean(means)"
   ]
  },
  {
   "cell_type": "markdown",
   "metadata": {},
   "source": [
    "Pentru dimensiuni ale sample-ului de 2, 3, 4, ridicaţi distribuţia sample mean, folosind atât codul de mai sus cât şi cel prezentat la curs pentru aruncarea zarului - funcţia roll() şi graficul aferent."
   ]
  },
  {
   "cell_type": "markdown",
   "metadata": {},
   "source": [
    "Q7. Valoarea aşteptată este o proprietate a:\n",
    "\n",
    "1. statisticii\n",
    "2. variabilităţii\n",
    "3. distribuţiei\n",
    "4. matematicii"
   ]
  },
  {
   "cell_type": "code",
   "execution_count": 15,
   "metadata": {},
   "outputs": [
    {
     "name": "stdout",
     "output_type": "stream",
     "text": [
      "Raspuns corect\n"
     ]
    }
   ],
   "source": [
    "def q():\n",
    "    return 3\n",
    "\n",
    "print('Raspuns %s' % ('corect' if r(7, q()) else 'incorect'))"
   ]
  },
  {
   "cell_type": "markdown",
   "metadata": {},
   "source": [
    "Q8. Media populaţiei este centrul de masă al:\n",
    "\n",
    "1. distribuţiei\n",
    "2. populaţiei\n",
    "3. sample-ului\n",
    "4. familiei"
   ]
  },
  {
   "cell_type": "code",
   "execution_count": 16,
   "metadata": {},
   "outputs": [
    {
     "name": "stdout",
     "output_type": "stream",
     "text": [
      "Raspuns corect\n"
     ]
    }
   ],
   "source": [
    "def q():\n",
    "    return 2\n",
    "\n",
    "print('Raspuns %s' % ('corect' if r(8, q()) else 'incorect'))"
   ]
  },
  {
   "cell_type": "markdown",
   "metadata": {},
   "source": [
    "Q9. Sample mean este centrul de masă al:\n",
    "\n",
    "1. datelor observate\n",
    "2. familiei\n",
    "3. populaţiei\n",
    "4. distribuţiei"
   ]
  },
  {
   "cell_type": "code",
   "execution_count": 17,
   "metadata": {},
   "outputs": [
    {
     "name": "stdout",
     "output_type": "stream",
     "text": [
      "Raspuns corect\n"
     ]
    }
   ],
   "source": [
    "def q():\n",
    "    return 1\n",
    "\n",
    "print('Raspuns %s' % ('corect' if r(9, q()) else 'incorect'))"
   ]
  },
  {
   "cell_type": "markdown",
   "metadata": {},
   "source": [
    "Q10. Media populaţiei estimează sample mean? (da/nu) \n",
    "Este sample mean unbiased? (da/nu) \n",
    "Pe măsură ce adăugăm mai multe experimente sample-ului, devine densitatea de probabilitate din ce în ce mai concentrată în jurul mediei populaţiei? (da/nu)\n",
    "\n",
    "Daţi un răspuns de genul 'x/x/x', unde x este 'da' sau 'nu'."
   ]
  },
  {
   "cell_type": "code",
   "execution_count": 18,
   "metadata": {},
   "outputs": [
    {
     "name": "stdout",
     "output_type": "stream",
     "text": [
      "Raspuns corect\n"
     ]
    }
   ],
   "source": [
    "def q():\n",
    "    return  'nu/da/da'\n",
    "\n",
    "print('Raspuns %s' % ('corect' if r(10, q()) else 'incorect'))"
   ]
  },
  {
   "cell_type": "markdown",
   "metadata": {},
   "source": [
    "## Variabilitate"
   ]
  },
  {
   "cell_type": "markdown",
   "metadata": {},
   "source": [
    "Variance (dispersia) pentru o variabilă aleatoare măsoară împrăştierea acesteia faţă de medie. Ea, ca şi media, este determinată ca valoarea aşteptată a pătratului diferenţei faţă de medie:\n",
    "\\begin{equation}\n",
    "Var(X) = E( (X - \\mu)^2 ) = E( (X - E(X))^2 ) = E(X^2) - E(X)^2\n",
    "\\end{equation}\n",
    "\n",
    "Vom considera proprietatea de liniaritate a dispersiei, $Var(aX) = a^2 Var(X)$:\n",
    "\n",
    "\\begin{equation}\n",
    "\\begin{split}\n",
    "Var(aX) &= E((aX)^2) - E(aX)^2 \\\\\n",
    "&= E(a^2X^2) - (aE(X))^2 \\\\\n",
    "&= a^2E(X^2) - a^2E(X)^2 \\\\\n",
    "&= a^2Var(X)\n",
    "\\end{split}\n",
    "\\end{equation}\n"
   ]
  },
  {
   "cell_type": "markdown",
   "metadata": {},
   "source": [
    "Q11. Fie o populaţie a aruncărilor cu zarul. Probabilitatea fiecărei feţe este $1/6$. Care este valoarea aşteptată a feţei care va ieşi (media)? Încercaţi să nu introduceţi valoarea direct ci să scrieţi cod numpy care o calculează."
   ]
  },
  {
   "cell_type": "code",
   "execution_count": 19,
   "metadata": {},
   "outputs": [
    {
     "name": "stdout",
     "output_type": "stream",
     "text": [
      "Evenimente posibile: [1 2 3 4 5 6]\n",
      "Raspuns corect\n"
     ]
    }
   ],
   "source": [
    "x = np.array(range(1, 7))\n",
    "print('Evenimente posibile:', x)\n",
    "\n",
    "def q():\n",
    "    return (1 / 6) * 1 + (1 / 6) * 2 + (1 / 6) * 3 + (1 / 6) * 4 + (1 / 6) * 5 + (1 / 6) * 6\n",
    "\n",
    "print('Raspuns %s' % ('corect' if r(11, q()) else 'incorect'))"
   ]
  },
  {
   "cell_type": "markdown",
   "metadata": {},
   "source": [
    "Q12. Mai departe, care este valoarea aşteptată a pătratului variabilei aleatoare x de mai sus?"
   ]
  },
  {
   "cell_type": "code",
   "execution_count": 20,
   "metadata": {},
   "outputs": [
    {
     "name": "stdout",
     "output_type": "stream",
     "text": [
      "Evenimente posibile: [1 2 3 4 5 6]\n",
      "Raspuns corect\n"
     ]
    }
   ],
   "source": [
    "x = np.array(range(1, 7))\n",
    "print('Evenimente posibile:', x)\n",
    "\n",
    "def q():\n",
    "    return (1 / 6) * 1 * 1 + (1 / 6) * 2 * 2 + (1 / 6) * 3 * 3 + (1 / 6) * 4 * 4 + (1 / 6) * 5 * 5 + (1 / 6) * 6 * 6\n",
    "\n",
    "print('Raspuns %s' % ('corect' if r(12, np.round(q(), 3)) else 'incorect'))"
   ]
  },
  {
   "cell_type": "markdown",
   "metadata": {},
   "source": [
    "Q13. În continuare, care este valoarea dispersiei? Calculaţi-o ca diferenţa dintre valoarea aşteptată a pătratelor variabilei aleatoare X şi pătratul mediei sale:"
   ]
  },
  {
   "cell_type": "code",
   "execution_count": 21,
   "metadata": {},
   "outputs": [
    {
     "name": "stdout",
     "output_type": "stream",
     "text": [
      "Evenimente posibile: [1 2 3 4 5 6]\n",
      "Raspuns corect\n"
     ]
    }
   ],
   "source": [
    "x = np.array(range(1, 7))\n",
    "print('Evenimente posibile:', x)\n",
    "\n",
    "def q():\n",
    "    return ((1 / 6) * 1 * 1 + (1 / 6) * 2 * 2 + (1 / 6) * 3 * 3 + (1 / 6) * 4 * 4 + (1 / 6) * 5 * 5 + (1 / 6) * 6 * 6)-(((1 / 6) * 1 + (1 / 6) * 2 + (1 / 6) * 3 + (1 / 6) * 4 + (1 / 6) * 5 + (1 / 6) * 6)*((1 / 6) * 1 + (1 / 6) * 2 + (1 / 6) * 3 + (1 / 6) * 4 + (1 / 6) * 5 + (1 / 6) * 6))\n",
    "\n",
    "print('Raspuns %s' % ('corect' if r(13, np.round(q(), 3)) else 'incorect'))"
   ]
  },
  {
   "cell_type": "markdown",
   "metadata": {},
   "source": [
    "Q14. Considerăm dispersia mediei sample-urilor pentru o variabilă aleatoare, adică $Var(\\bar{X})$. Presupunem $n$ variabile independente $X_i$. Care din următoarele este expresia lui $Var(\\bar{X})$?\n",
    "\n",
    "1. $Var(1/n * \\sum_i X_i)$\n",
    "2. $E(1/n * \\sum_i X_i)$\n",
    "3. $\\sigma$\n",
    "4. $\\mu$"
   ]
  },
  {
   "cell_type": "code",
   "execution_count": 22,
   "metadata": {},
   "outputs": [
    {
     "name": "stdout",
     "output_type": "stream",
     "text": [
      "Raspuns corect\n"
     ]
    }
   ],
   "source": [
    "def q():\n",
    "    return 1\n",
    "\n",
    "print('Raspuns %s' % ('corect' if r(14, q()) else 'incorect'))"
   ]
  },
  {
   "cell_type": "markdown",
   "metadata": {},
   "source": [
    "Q15. Cu care din următoarele este egală $Var(1/n * \\sum_i X_i)$ ? Folosiţi proprietatea de liniaritate a dispersiei.\n",
    "\n",
    "1. $1/n^2 * E(\\sum_i X_i)$\n",
    "2. $\\mu / n^2$\n",
    "3. $1/n^2 * Var(\\sum_i X_i)$\n",
    "4. $\\sigma / n$"
   ]
  },
  {
   "cell_type": "code",
   "execution_count": 23,
   "metadata": {},
   "outputs": [
    {
     "name": "stdout",
     "output_type": "stream",
     "text": [
      "Raspuns corect\n"
     ]
    }
   ],
   "source": [
    "def q():\n",
    "    return 3\n",
    "\n",
    "print('Raspuns %s' % ('corect' if r(15, q()) else 'incorect'))"
   ]
  },
  {
   "cell_type": "markdown",
   "metadata": {},
   "source": [
    "Q16. Mai departe, cu ce este egală $Var(\\sum_i X_i)$? Atenţie, variabilele aleatoare $X_i$ sunt independente.\n",
    "\n",
    "1. $\\sum_i Var(X_i)$\n",
    "2. $E(\\sum_i X_i)$\n",
    "3. $Var(\\sigma)$\n",
    "4. $E(\\mu)$"
   ]
  },
  {
   "cell_type": "code",
   "execution_count": 24,
   "metadata": {},
   "outputs": [
    {
     "name": "stdout",
     "output_type": "stream",
     "text": [
      "Raspuns corect\n"
     ]
    }
   ],
   "source": [
    "def q():\n",
    "    return 1\n",
    "\n",
    "print('Raspuns %s' % ('corect' if r(16, q()) else 'incorect'))"
   ]
  },
  {
   "cell_type": "markdown",
   "metadata": {},
   "source": [
    "Q17. Mai departe, fiecare $X_i$ provine dintr-o populaţie cu dispersie $\\sigma^2$. Cu ce este egală $\\sum_i Var(X_i)$ ?\n",
    "\n",
    "1. $n^2 * Var(\\sigma)$\n",
    "2. $n * E(\\mu)$\n",
    "3. $n * \\mu$\n",
    "4. $n * \\sigma^2$"
   ]
  },
  {
   "cell_type": "code",
   "execution_count": 25,
   "metadata": {},
   "outputs": [
    {
     "name": "stdout",
     "output_type": "stream",
     "text": [
      "Raspuns corect\n"
     ]
    }
   ],
   "source": [
    "def q():\n",
    "    return 4\n",
    "\n",
    "print('Raspuns %s' % ('corect' if r(17, q()) else 'incorect'))"
   ]
  },
  {
   "cell_type": "markdown",
   "metadata": {},
   "source": [
    "Q18. În cele ce urmează ne propunem să verificăm modul de calcul teoretic al standard error. Ne reamintim cum funcţionează aceasta pentru evenimentele reprezentînd aruncarea monezii:"
   ]
  },
  {
   "cell_type": "code",
   "execution_count": 26,
   "metadata": {},
   "outputs": [
    {
     "name": "stdout",
     "output_type": "stream",
     "text": [
      "std teoretica:  0.15811388300841897\n",
      "std numpy:      0.15812646805642627\n",
      "Raspuns corect\n",
      "std calculata:  0.15812646805642627\n"
     ]
    }
   ],
   "source": [
    "# Pentru o moneda cu probabilitatea p sa iasa Head, avem:\n",
    "# * media este p\n",
    "# * dispersia (variance) este p*(1-p), sau p*p daca moneda este ideala\n",
    "#   in acest ultim caz, deviatia standard este tot p\n",
    "\n",
    "# generam o matrice de 10000 x 10 de aruncari fair, valori intre 0 si 1\n",
    "nosim, n = 10000, 10\n",
    "x = np.random.randint(low=0, high=2, size=(nosim, n))\n",
    "\n",
    "# fiecare sample consta din 10 aruncari; calculam media acestor 10 aruncari\n",
    "x = np.mean(x, axis=1)\n",
    "\n",
    "# calculam deviaţia standard a mediei (radical din standard error) teoretic\n",
    "print('std teoretica: ', 0.5/np.sqrt(n))\n",
    "\n",
    "# calculam deviaţia standard folosind numpy\n",
    "print('std numpy:     ', np.std(x))\n",
    "\n",
    "# calculati deviatia standard de mana, pornind de la sample-ul x, scriind explicit formula:\n",
    "def stddev(x):\n",
    "    return np.sqrt(np.sum((x - np.mean(x))**2) / nosim)\n",
    "\n",
    "print('Raspuns %s' % ('corect' if stddev(x) == np.std(x) else 'incorect'))\n",
    "print('std calculata: ', stddev(x))"
   ]
  },
  {
   "cell_type": "markdown",
   "metadata": {},
   "source": [
    "Q19. Realizaţi acelaşi calcul, de data aceasta pentru evenimentele aruncării cu zarul:\n",
    "\n",
    "__Notă__: cam 1/10 din cazuri o să primiţi 'răspuns incorect', chiar dacă rezolvarea e bună"
   ]
  },
  {
   "cell_type": "code",
   "execution_count": 28,
   "metadata": {},
   "outputs": [
    {
     "name": "stdout",
     "output_type": "stream",
     "text": [
      "3.5 2.9166666666666665\n",
      "0.5347481828861131\n",
      "0.8506944444444443\n"
     ]
    }
   ],
   "source": [
    "x = np.array([1, 2, 3, 4, 5, 6])\n",
    "mu = np.mean(x)\n",
    "sigma = np.var(x)\n",
    "print(mu, sigma)\n",
    "\n",
    "nosim, n = 10000, 10\n",
    "x = np.random.randint(low=0, high=6, size=(nosim, n))\n",
    "x = np.mean(x, axis=1)\n",
    "\n",
    "# calculati standard error of the mean\n",
    "def stderror(sigma, n):\n",
    "    return (sigma*sigma)/n\n",
    "\n",
    "print(np.std(x))\n",
    "print(stderror(sigma, n))"
   ]
  }
 ],
 "metadata": {
  "kernelspec": {
   "display_name": "Python 3",
   "language": "python",
   "name": "python3"
  },
  "language_info": {
   "codemirror_mode": {
    "name": "ipython",
    "version": 3
   },
   "file_extension": ".py",
   "mimetype": "text/x-python",
   "name": "python",
   "nbconvert_exporter": "python",
   "pygments_lexer": "ipython3",
   "version": "3.8.8"
  }
 },
 "nbformat": 4,
 "nbformat_minor": 2
}
