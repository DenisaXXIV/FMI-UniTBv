{
 "cells": [
  {
   "cell_type": "code",
   "execution_count": 1,
   "metadata": {},
   "outputs": [],
   "source": [
    "import numpy as np\n",
    "import matplotlib.pyplot as plt\n",
    "import scipy.stats as stats\n",
    "from scipy.special import binom\n",
    "import pandas as pd\n",
    "import math\n",
    "import pickle\n",
    "import statsmodels.stats.power\n",
    "import statsmodels.api as sm\n",
    "import statsmodels.stats.multitest as mt\n",
    "from sklearn import datasets"
   ]
  },
  {
   "cell_type": "markdown",
   "metadata": {},
   "source": [
    "# Laborator"
   ]
  },
  {
   "cell_type": "markdown",
   "metadata": {},
   "source": [
    "Q1. Power este o probabilitate pentru care se presupune că este adevărată:\n",
    "\n",
    "1. ipoteza nulă $H_0$\n",
    "2. ipoteza alternativă $H_a$\n",
    "3. ambele"
   ]
  },
  {
   "cell_type": "markdown",
   "metadata": {},
   "source": [
    "Raspuns: 2. ipoteza alternativa $H_a$"
   ]
  },
  {
   "cell_type": "markdown",
   "metadata": {},
   "source": [
    "Q2. Pe măsură ce dimensiunea sample-ului crește, restul menținîndu-se constant, ce se întâmplă cu power?\n",
    "\n",
    "1. se mărește\n",
    "2. se micșorează\n",
    "3. rămâne la fel\n",
    "4. nu putem preciza"
   ]
  },
  {
   "cell_type": "markdown",
   "metadata": {},
   "source": [
    "Raspuns: 1. se mareste"
   ]
  },
  {
   "cell_type": "markdown",
   "metadata": {},
   "source": [
    "Q3. Ce se întâmplă cu power pe măsură ce $\\mu_a$ se îndepărtează față de $\\mu_0$ ?"
   ]
  },
  {
   "cell_type": "markdown",
   "metadata": {},
   "source": [
    "Pe masura ce se indeparteaza  𝜇𝑎 , puterea creste. power creste cand µa creste: e mult mai probabil sa detectam o diferenta cand acea diferenta e foarte mare"
   ]
  },
  {
   "cell_type": "markdown",
   "metadata": {},
   "source": [
    "Q4. În contextul calculului power, ce este 'effect size'?"
   ]
  },
  {
   "cell_type": "markdown",
   "metadata": {},
   "source": [
    "Effect size este diferenta intre medii în unitati de deviatie standard.\n",
    "(µa−µ0)/σ"
   ]
  },
  {
   "cell_type": "markdown",
   "metadata": {},
   "source": [
    "Q5. Presupunem că în cazul unei testări A/B, o schemă de publicitate a determinat o medie de 10 achiziții pe zi pentru un sample de 100 de zile, în timp ce pentru cealaltă a determinat o medie de 11 achiziții pe zi, pentru același interval de 100 de zile. Presupunem o deviație standard de 4 achiziții pe zi pentru ambele distribuții. \n",
    "\n",
    "Media de 10 achiziții/zi este $\\mu_0$ asociată ipotezei nule, iar pentru ipoteza alternativă $\\mu_a = 11$. Care ar fi power pentru un test Z one-sided cu confidența de 95% ($\\alpha=5\\%$), în care presupunem că media achizițiilor a crescut la ipoteza alternativă?"
   ]
  },
  {
   "cell_type": "code",
   "execution_count": 25,
   "metadata": {},
   "outputs": [
    {
     "name": "stdout",
     "output_type": "stream",
     "text": [
      "0.8037649400154937\n"
     ]
    }
   ],
   "source": [
    "print(statsmodels.stats.power.normal_power(effect_size=(11 - 10)/4, nobs=100, alpha=0.05, alternative='larger'))"
   ]
  },
  {
   "cell_type": "markdown",
   "metadata": {},
   "source": [
    "Q5. Se dorește crearea unui studiu pentru detectarea valorii medii pe 4 ani a pierderii de volum a creierului, pierdere medie de 0.01 $mm^3$. Presupunem că deviația standard pe media acestor 4 ani este de 0.04 $mm^3$. Care este numărul de voluntari pe care trebuie să se facă studiul pentru un test 5% vs. ipoteza nulă că nu se pierde deloc volum, pentru a atinge power de 80% ?"
   ]
  },
  {
   "cell_type": "code",
   "execution_count": 26,
   "metadata": {},
   "outputs": [
    {
     "name": "stdout",
     "output_type": "stream",
     "text": [
      "100.2876635477728\n"
     ]
    }
   ],
   "source": [
    "print(statsmodels.stats.power.tt_solve_power(\n",
    "    effect_size=(0.01 - 0.0)/0.04, alpha=0.05, power=0.8, alternative='larger'\n",
    "))"
   ]
  },
  {
   "cell_type": "markdown",
   "metadata": {},
   "source": [
    "Q7. Ce folosește procedura bootstrap pentru a estima distribuția sampled a unei statistici ?"
   ]
  },
  {
   "cell_type": "markdown",
   "metadata": {},
   "source": [
    "Procedura bootstrap sugereaza ca putem folosi distributia definita de date pentru a aproxima sampling distribution. Se realizeaza extrageri cu inlocuire din datele sample-ului pe care il avem."
   ]
  }
 ],
 "metadata": {
  "kernelspec": {
   "display_name": "Python 3",
   "language": "python",
   "name": "python3"
  },
  "language_info": {
   "codemirror_mode": {
    "name": "ipython",
    "version": 3
   },
   "file_extension": ".py",
   "mimetype": "text/x-python",
   "name": "python",
   "nbconvert_exporter": "python",
   "pygments_lexer": "ipython3",
   "version": "3.8.8"
  }
 },
 "nbformat": 4,
 "nbformat_minor": 2
}
