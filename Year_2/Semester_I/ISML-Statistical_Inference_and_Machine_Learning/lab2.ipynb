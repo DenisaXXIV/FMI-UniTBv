{
 "cells": [
  {
   "cell_type": "code",
   "execution_count": 1,
   "metadata": {},
   "outputs": [],
   "source": [
    "import numpy as np\n",
    "import matplotlib.pyplot as plt\n",
    "import math\n",
    "import scipy.stats as stats\n",
    "import pickle"
   ]
  },
  {
   "cell_type": "code",
   "execution_count": 2,
   "metadata": {},
   "outputs": [],
   "source": [
    "def r(n, r):\n",
    "    enc = b'\\x80\\x03}q\\x00(K\\x01K\\x01K\\x02K\\x03K\\x03K\\x06K\\x04G?\\xc5UUUUUUK\\x05G?\\xe0\\x00\\x00\\x00\\x00\\x00\\x00K\\x06G?\\x9cq\\xc7\\x1cq\\xc7\\x1cK\\x07G?\\xc5UUUUUUK\\x08K$K\\tG?\\xb5UUUUUUK\\nK\\x07K\\x0bG?\\xe5UUUUUUK\\x0cG?\\xb5UUUUUUK\\rG?\\xedUUUUUUK\\x0eK4K\\x0fG?\\xb3\\xb1;\\x13\\xb1;\\x14K\\x10K\\x00K\\x11G?\\xcd\\x89\\xd8\\x9d\\x89\\xd8\\x9eK\\x12G?\\xcb\\x9b\\x9b\\x9b\\x9b\\x9b\\x9cK\\x13G?\\xa4\\x14\\x14\\x14\\x14\\x14\\x14K\\x14X\\x08\\x00\\x00\\x00discretaq\\x01K\\x15K\\x02K\\x16X\\x02\\x00\\x00\\x00daq\\x02K\\x17G?\\xe4z\\xe1G\\xae\\x14{K\\x18G@\\x15\\x00\\x00\\x00\\x00\\x00\\x00K\\x19G?\\xe4z\\xe1G\\xae\\x14|K\\x1aK2K\\x1bK\\x01K\\x1cK\\x03K\\x1dG?\\xd5UUUUUUK\\x1eG?\\xc5UUUUUUK\\x1fK\\x01K K\\x04K!G?\\xaf\\xf2\\xe4\\x8e\\x8aq\\xdeK\"K\\x04K#X\\x04\\x00\\x00\\x00mareq\\x03u.'\n",
    "    d = pickle.loads(enc)\n",
    "    if d.get(n) is not None and d[n] == r: return True\n",
    "    return False"
   ]
  },
  {
   "cell_type": "markdown",
   "metadata": {},
   "source": [
    "# Laborator"
   ]
  },
  {
   "cell_type": "markdown",
   "metadata": {},
   "source": [
    "## 1. Introducere"
   ]
  },
  {
   "cell_type": "markdown",
   "metadata": {},
   "source": [
    "Q1. Care din următoarele nu este un exemplu de inferenţă statistică?\n",
    "1. înregistrarea rezultatelor unui examen\n",
    "2. sondarea opiniei publice înaintea votului\n",
    "3. testarea eficacităţii unui medicament\n",
    "4. compararea performanţelor a două clasificatoare prin testări repetate\n",
    "\n",
    "În definiţiile de funcţii de mai jos, reformulaţi funcţia q(.) în aşa fel încât să întoarcă răspunsul corect."
   ]
  },
  {
   "cell_type": "code",
   "execution_count": 14,
   "metadata": {},
   "outputs": [
    {
     "name": "stdout",
     "output_type": "stream",
     "text": [
      "Raspuns corect\n"
     ]
    }
   ],
   "source": [
    "def q():\n",
    "    # modificati valoarea intoarsa de return\n",
    "    return 1\n",
    "\n",
    "print('Raspuns %s' % ('corect' if r(1, q()) else 'incorect'))"
   ]
  },
  {
   "cell_type": "markdown",
   "metadata": {},
   "source": [
    "Q2. Care din următoarele nu este o sursă de date proastă?\n",
    "1. sample size mic\n",
    "2. părtinire (bias) în selecţia sample-urilor\n",
    "3. selectarea aleatoare a sample-urilor din populaţie\n",
    "4. un studiu slab gândit"
   ]
  },
  {
   "cell_type": "code",
   "execution_count": 15,
   "metadata": {},
   "outputs": [
    {
     "name": "stdout",
     "output_type": "stream",
     "text": [
      "Raspuns corect\n"
     ]
    }
   ],
   "source": [
    "def q():\n",
    "    return 3\n",
    "\n",
    "print('Raspuns %s' % ('corect' if r(2, q()) else 'incorect'))"
   ]
  },
  {
   "cell_type": "markdown",
   "metadata": {},
   "source": [
    "## 2. Probabilităţi"
   ]
  },
  {
   "cell_type": "markdown",
   "metadata": {},
   "source": [
    "Q3. Pentru un zar corect, câte evenimente sunt posibile?"
   ]
  },
  {
   "cell_type": "code",
   "execution_count": 16,
   "metadata": {},
   "outputs": [
    {
     "name": "stdout",
     "output_type": "stream",
     "text": [
      "Raspuns corect\n"
     ]
    }
   ],
   "source": [
    "def q():\n",
    "    return 6\n",
    "\n",
    "print('Raspuns %s' % ('corect' if r(3, q()) else 'incorect'))"
   ]
  },
  {
   "cell_type": "markdown",
   "metadata": {},
   "source": [
    "Q4. Care este probabilitatea să apară 2?"
   ]
  },
  {
   "cell_type": "code",
   "execution_count": 17,
   "metadata": {},
   "outputs": [
    {
     "name": "stdout",
     "output_type": "stream",
     "text": [
      "Raspuns corect\n"
     ]
    }
   ],
   "source": [
    "def q():\n",
    "    return 1/6\n",
    "\n",
    "print('Raspuns %s' % ('corect' if r(4, q()) else 'incorect'))"
   ]
  },
  {
   "cell_type": "markdown",
   "metadata": {},
   "source": [
    "Q5. Care este probabilitatea ca, pentru acelaşi zar, să iasă un număr impar mai mic ca 6?"
   ]
  },
  {
   "cell_type": "code",
   "execution_count": 18,
   "metadata": {},
   "outputs": [
    {
     "name": "stdout",
     "output_type": "stream",
     "text": [
      "Raspuns corect\n"
     ]
    }
   ],
   "source": [
    "def q():\n",
    "    return 1/2\n",
    "\n",
    "print('Raspuns %s' % ('corect' if r(5, q()) else 'incorect'))"
   ]
  },
  {
   "cell_type": "markdown",
   "metadata": {},
   "source": [
    "Q6. Dacă A şi B sunt două evenimente independente, probabilitatea ca ambele să apară este\n",
    "$P(A \\cap B) = P(A) * P(B)$. Dăm de două ori cu zarul. Care este probabilitatea să apară doi de 4?"
   ]
  },
  {
   "cell_type": "code",
   "execution_count": 19,
   "metadata": {},
   "outputs": [
    {
     "name": "stdout",
     "output_type": "stream",
     "text": [
      "Raspuns corect\n"
     ]
    }
   ],
   "source": [
    "def q():\n",
    "    return 1/36\n",
    "\n",
    "print('Raspuns %s' % ('corect' if r(6, q()) else 'incorect'))"
   ]
  },
  {
   "cell_type": "markdown",
   "metadata": {},
   "source": [
    "Q7. Presupunem că dăm de două ori cu zarul. Care este probabilitatea să apară acelaşi număr de două ori la rând?"
   ]
  },
  {
   "cell_type": "code",
   "execution_count": 20,
   "metadata": {},
   "outputs": [
    {
     "name": "stdout",
     "output_type": "stream",
     "text": [
      "Raspuns corect\n"
     ]
    }
   ],
   "source": [
    "def q():\n",
    "    return 1/6\n",
    "\n",
    "print('Raspuns %s' % ('corect' if r(7, q()) else 'incorect'))"
   ]
  },
  {
   "cell_type": "markdown",
   "metadata": {},
   "source": [
    "Q8. Pentru două zaruri cu care dăm, câte numere evenimente sunt generate?"
   ]
  },
  {
   "cell_type": "code",
   "execution_count": 21,
   "metadata": {},
   "outputs": [
    {
     "name": "stdout",
     "output_type": "stream",
     "text": [
      "Raspuns corect\n"
     ]
    }
   ],
   "source": [
    "def q():\n",
    "    return 36\n",
    "\n",
    "print('Raspuns %s' % ('corect' if r(8, q()) else 'incorect'))"
   ]
  },
  {
   "cell_type": "markdown",
   "metadata": {},
   "source": [
    "Q9. Cu aceste două zaruri, care este probabilitatea să dăm suma 10?"
   ]
  },
  {
   "cell_type": "code",
   "execution_count": 22,
   "metadata": {},
   "outputs": [
    {
     "name": "stdout",
     "output_type": "stream",
     "text": [
      "Raspuns corect\n"
     ]
    }
   ],
   "source": [
    "def q():\n",
    "    return 1/12\n",
    "\n",
    "print('Raspuns %s' % ('corect' if r(9, q()) else 'incorect'))"
   ]
  },
  {
   "cell_type": "markdown",
   "metadata": {},
   "source": [
    "Q10. Care este suma feţelor cel mai probabil să iasă când dăm cu aceste două zaruri ideale?"
   ]
  },
  {
   "cell_type": "code",
   "execution_count": 23,
   "metadata": {},
   "outputs": [
    {
     "name": "stdout",
     "output_type": "stream",
     "text": [
      "Raspuns corect\n"
     ]
    }
   ],
   "source": [
    "def q():\n",
    "    return 7\n",
    "\n",
    "print('Raspuns %s' % ('corect' if r(10, q()) else 'incorect'))"
   ]
  },
  {
   "cell_type": "markdown",
   "metadata": {},
   "source": [
    "Q11. Probabilitatea ca cel puţin unul din două evenimente să se întâmple este suma probabilităţilor lor individuale minus intersecţia lor: $P(A \\cup B) = P(A) + P(B) - P(A \\cap B)$. Pentru cele două zaruri, care este probabilitatea de a obţine o sumă pară sau un număr mai mare ca 8?"
   ]
  },
  {
   "cell_type": "code",
   "execution_count": 24,
   "metadata": {},
   "outputs": [
    {
     "name": "stdout",
     "output_type": "stream",
     "text": [
      "Raspuns corect\n"
     ]
    }
   ],
   "source": [
    "def q():\n",
    "    return 24/36\n",
    "\n",
    "print('Raspuns %s' % ('corect' if r(11, q()) else 'incorect'))"
   ]
  },
  {
   "cell_type": "markdown",
   "metadata": {},
   "source": [
    "Q12. Dacă evenimentele sunt mutual exclusive, atunci doar unul poate apărea, adică $P(A \\cup B) = P(A) + P(B)$.  Care este probabilitatea ca suma celor două feţe să fie un număr mai mare ca 10?"
   ]
  },
  {
   "cell_type": "code",
   "execution_count": 25,
   "metadata": {},
   "outputs": [
    {
     "name": "stdout",
     "output_type": "stream",
     "text": [
      "Raspuns corect\n"
     ]
    }
   ],
   "source": [
    "def q():\n",
    "    return 3/36\n",
    "\n",
    "print('Raspuns %s' % ('corect' if r(12, q()) else 'incorect'))"
   ]
  },
  {
   "cell_type": "markdown",
   "metadata": {},
   "source": [
    "Q13. Folosiţi răspunsul la întrebarea precedentă şi faptul că suma tuturor evenimentelor posibile are suma 1 pentru a determina probabilitatea ca suma rezultată să fie mai mică sau egală cu 10."
   ]
  },
  {
   "cell_type": "code",
   "execution_count": 26,
   "metadata": {},
   "outputs": [
    {
     "name": "stdout",
     "output_type": "stream",
     "text": [
      "Raspuns corect\n"
     ]
    }
   ],
   "source": [
    "def q():\n",
    "    return 33/36\n",
    "\n",
    "print('Raspuns %s' % ('corect' if r(13, q()) else 'incorect'))"
   ]
  },
  {
   "cell_type": "markdown",
   "metadata": {},
   "source": [
    "Q14. Un set de joc de cărţi are 52 de cărţi, 4 culori şi 13 cărţi în fiecare culoare: caro, treflă, pică, inimă roşie. Fiecare culoare are cărţi în suita as (1), 2, 3, .. 10, Valet, Damă, Popă. Când extragem o singură carte, câte variante sunt posibile?"
   ]
  },
  {
   "cell_type": "code",
   "execution_count": 27,
   "metadata": {},
   "outputs": [
    {
     "name": "stdout",
     "output_type": "stream",
     "text": [
      "Raspuns corect\n"
     ]
    }
   ],
   "source": [
    "def q():\n",
    "    return 52\n",
    "\n",
    "print('Raspuns %s' % ('corect' if r(14, q()) else 'incorect'))"
   ]
  },
  {
   "cell_type": "markdown",
   "metadata": {},
   "source": [
    "Q15. Care este probabilitatea să tragem un Valet?"
   ]
  },
  {
   "cell_type": "code",
   "execution_count": 28,
   "metadata": {},
   "outputs": [
    {
     "name": "stdout",
     "output_type": "stream",
     "text": [
      "Raspuns corect\n"
     ]
    }
   ],
   "source": [
    "def q():\n",
    "    return 4/52\n",
    "\n",
    "print('Raspuns %s' % ('corect' if r(15, q()) else 'incorect'))"
   ]
  },
  {
   "cell_type": "markdown",
   "metadata": {},
   "source": [
    "Q16. Dacă ne sunt împărţite 5 cărţi, care este probabilitatea ca toate 5 să fie de aceeaşi valoare?"
   ]
  },
  {
   "cell_type": "code",
   "execution_count": 29,
   "metadata": {},
   "outputs": [
    {
     "name": "stdout",
     "output_type": "stream",
     "text": [
      "Raspuns corect\n"
     ]
    }
   ],
   "source": [
    "def q():\n",
    "    return 0\n",
    "\n",
    "print('Raspuns %s' % ('corect' if r(16, q()) else 'incorect'))"
   ]
  },
  {
   "cell_type": "markdown",
   "metadata": {},
   "source": [
    "Q17. Care este probabilitatea ca să extragem o carte personaj (Valet, Damă, Popă)?"
   ]
  },
  {
   "cell_type": "code",
   "execution_count": 30,
   "metadata": {},
   "outputs": [
    {
     "name": "stdout",
     "output_type": "stream",
     "text": [
      "Raspuns corect\n"
     ]
    }
   ],
   "source": [
    "def q():\n",
    "    return 12/52\n",
    "\n",
    "print('Raspuns %s' % ('corect' if r(17, q()) else 'incorect'))"
   ]
  },
  {
   "cell_type": "markdown",
   "metadata": {},
   "source": [
    "Q18. Mai departe, presupunem că extragem o carte din pachet şi nu o punem înapoi. Care este probabilitatea ca a doua carte extrasă să fie tot un personaj?"
   ]
  },
  {
   "cell_type": "code",
   "execution_count": 31,
   "metadata": {},
   "outputs": [
    {
     "name": "stdout",
     "output_type": "stream",
     "text": [
      "Raspuns corect\n"
     ]
    }
   ],
   "source": [
    "def q():\n",
    "    return 11/51\n",
    "\n",
    "print('Raspuns %s' % ('corect' if r(18, q()) else 'incorect'))"
   ]
  },
  {
   "cell_type": "markdown",
   "metadata": {},
   "source": [
    "Q19. Presupunem că extragem o carte personaj şi nu o punem înapoi. Care este probabilitatea ca la a doua extragere să tragem tot o carte personaj de aceeaşi culoare?"
   ]
  },
  {
   "cell_type": "code",
   "execution_count": 32,
   "metadata": {},
   "outputs": [
    {
     "name": "stdout",
     "output_type": "stream",
     "text": [
      "Raspuns corect\n"
     ]
    }
   ],
   "source": [
    "def q():\n",
    "    return 2/51\n",
    "\n",
    "print('Raspuns %s' % ('corect' if r(19, q()) else 'incorect'))"
   ]
  },
  {
   "cell_type": "markdown",
   "metadata": {},
   "source": [
    "Q20. O variabilă aleatoare poate fi discretă (ia un număr finit de posibilităţi) sau continuă (ia valori pe axa reală sau un subset al ei). Dacă aţi avea o ruletă cu precizie infinită, măsurătoarea respectivă ar fi o variabilă continuă sau discretă? Introduceţi răspunsul ca string fără diacritice."
   ]
  },
  {
   "cell_type": "code",
   "execution_count": 33,
   "metadata": {},
   "outputs": [
    {
     "name": "stdout",
     "output_type": "stream",
     "text": [
      "Raspuns corect\n"
     ]
    }
   ],
   "source": [
    "def q():\n",
    "    return 'discreta'\n",
    "\n",
    "print('Raspuns %s' % ('corect' if r(20, q()) else 'incorect'))"
   ]
  },
  {
   "cell_type": "markdown",
   "metadata": {},
   "source": [
    "Q21. O probability mass function (PMF) dă probabilitatea ca o variabilă aleatoare să fie exact egală cu o anume valoare. De exemplu, avem o monedă care poate fi sau nu ideală. Fie $x=0$ 'heads', iar $x=1$ o realizare a experimentului de tip 'tails'. Dacă p e probabilitatea pentru 'heads', care din următoarele formule reprezintă o PMF pentru aruncarea monezii? \n",
    "\n",
    "1. $p^x*(1-p)^{1-x}$\n",
    "2. $p^{1-x}*(1-p)^x$\n",
    "\n",
    "Indicaţie: gândiţi-vă că probabilitatea p este asociată cu 'heads', care iese când x=0."
   ]
  },
  {
   "cell_type": "code",
   "execution_count": 34,
   "metadata": {},
   "outputs": [
    {
     "name": "stdout",
     "output_type": "stream",
     "text": [
      "Raspuns corect\n"
     ]
    }
   ],
   "source": [
    "def q():\n",
    "    return 2\n",
    "\n",
    "print('Raspuns %s' % ('corect' if r(21, q()) else 'incorect'))"
   ]
  },
  {
   "cell_type": "markdown",
   "metadata": {},
   "source": [
    "Q22. O probability density function este asociată cu o variabilă continuă. Probabilitatea ca variabila să pice într-un interval este dată de aria delimitată superior de funcţia PDF, pe acel interval. Pentru ca să fie o PDF, funcţia trebuie să aibă aria 1 şi să fie nenegativă în intervalul de definiţie. Pentru funcţia de mai jos, poate fi ea o PDF? Răspundeţi cu 'da' sau 'nu'."
   ]
  },
  {
   "cell_type": "code",
   "execution_count": 35,
   "metadata": {},
   "outputs": [
    {
     "data": {
      "image/png": "[encoded data removed]",
      "text/plain": [
       "<Figure size 432x288 with 1 Axes>"
      ]
     },
     "metadata": {
      "needs_background": "light"
     },
     "output_type": "display_data"
    }
   ],
   "source": [
    "x = np.array([0, 2, 2])\n",
    "y = np.array([0, 1, 0])\n",
    "\n",
    "plt.plot(x, y, lw=3)\n",
    "plt.show()"
   ]
  },
  {
   "cell_type": "code",
   "execution_count": 36,
   "metadata": {},
   "outputs": [
    {
     "name": "stdout",
     "output_type": "stream",
     "text": [
      "Raspuns corect\n"
     ]
    }
   ],
   "source": [
    "def q():\n",
    "    return 'da'\n",
    "\n",
    "print('Raspuns %s' % ('corect' if r(22, q()) else 'incorect'))"
   ]
  },
  {
   "cell_type": "markdown",
   "metadata": {},
   "source": [
    "Q23. Pentru PDF dată mai jos, ne interesează să calculăm aria triunghiului roz. Acesta reprezintă şi probabilitatea ca, dacă aruncăm o monedă spre triunghiul mare, aceasta să cadă în triunghiul roz. Aria este (4 zecimale exacte):"
   ]
  },
  {
   "cell_type": "code",
   "execution_count": 37,
   "metadata": {},
   "outputs": [
    {
     "data": {
      "image/png": "[encoded data removed]",
      "text/plain": [
       "<Figure size 432x288 with 1 Axes>"
      ]
     },
     "metadata": {
      "needs_background": "light"
     },
     "output_type": "display_data"
    }
   ],
   "source": [
    "x = np.array([0, 1.6, 1.6, 1.6, 2, 2, 0])\n",
    "y = np.array([0, .8, 0, .8, 1, 0, 0])\n",
    "x1 = np.array([0, 1.6, 1.6])\n",
    "y1 = x1/2; y1[-1] = 0\n",
    "\n",
    "\n",
    "plt.plot(x, y, lw=3)\n",
    "plt.fill(x1, y1, \"pink\")\n",
    "plt.show()"
   ]
  },
  {
   "cell_type": "code",
   "execution_count": 38,
   "metadata": {},
   "outputs": [
    {
     "name": "stdout",
     "output_type": "stream",
     "text": [
      "Raspuns corect\n"
     ]
    }
   ],
   "source": [
    "# rotunjiţi la 4 zecimale folosind funcţia round() \n",
    "# (apăsaţi Shift-Tab cu cursorul după paranteza deschisă la 'round(' ca să vedeţi cum se foloseşte)\n",
    "\n",
    "def q():\n",
    "    return round((1.6*0.8)/2,4)\n",
    "\n",
    "print('Raspuns %s' % ('corect' if r(23, q()) else 'incorect'))"
   ]
  },
  {
   "cell_type": "markdown",
   "metadata": {},
   "source": [
    "Q24. Cummulative Distribution Function (CDF) pentru o variabilă aleatoare X, discretă sau continuă, este funcţia F(x) egală cu probabilitatea ca x este mai mic sau egal cu X, $F(x) = P(X \\leq x)$. În exemplul anterior, aria triunghiului roz reprezintă probabilitatea ca variabila aleatoare să fie mai mic sau egală cu x = 1.6.\n",
    "\n",
    "Care este expresia pentru F(x)? Definiţi funcţia. F(x):"
   ]
  },
  {
   "cell_type": "code",
   "execution_count": 39,
   "metadata": {},
   "outputs": [
    {
     "name": "stdout",
     "output_type": "stream",
     "text": [
      "Raspuns corect\n"
     ]
    }
   ],
   "source": [
    "def F(x):\n",
    "    return (x*x)/4\n",
    "\n",
    "print('Raspuns %s' % ('corect' if r(24, np.sum(F(np.array([0, 1, 2, 4])))) else 'incorect'))"
   ]
  },
  {
   "cell_type": "markdown",
   "metadata": {},
   "source": [
    "Q25. Dacă variabila este continuă, funcţia PDF este derivata funcţiei CDF. Deci integrarea CDF o să genereze PDF. \n",
    "\n",
    "Pentru funcţia care descrie PDF de la Q23, integraţi-o pe intervalul \\[0, 1.6\\] astfel încât să obţineţi aria triunghiului roz:"
   ]
  },
  {
   "cell_type": "code",
   "execution_count": 40,
   "metadata": {},
   "outputs": [
    {
     "name": "stdout",
     "output_type": "stream",
     "text": [
      "Raspuns corect\n"
     ]
    }
   ],
   "source": [
    "from scipy.integrate import quad\n",
    "\n",
    "def pdf(x):\n",
    "    return x/2\n",
    "\n",
    "print('Raspuns %s' % ('corect' if r(25, quad(pdf, 0, 1.6)[0]) else 'incorect'))"
   ]
  },
  {
   "cell_type": "markdown",
   "metadata": {},
   "source": [
    "Q26. Quantila v a funcţiei CDF este punctul $x_v$ pentru care CDF are valoarea v. Mai exact, $F(x_v) = v$. Percentila este o quantilă exprimată ca procent.\n",
    "\n",
    "Ce percentilă (între 0 şi 100) este mediana?"
   ]
  },
  {
   "cell_type": "code",
   "execution_count": 41,
   "metadata": {},
   "outputs": [
    {
     "name": "stdout",
     "output_type": "stream",
     "text": [
      "Raspuns corect\n"
     ]
    }
   ],
   "source": [
    "def q():\n",
    "    return 50\n",
    "\n",
    "print('Raspuns %s' % ('corect' if r(26, q()) else 'incorect'))"
   ]
  },
  {
   "cell_type": "markdown",
   "metadata": {},
   "source": [
    "Q27. Care este percentila 25 pentru funcţia CDF F(.) definită la întrebarea 24? Observaţi mai întâi pe graficul PDF ce înseamnă asta."
   ]
  },
  {
   "cell_type": "code",
   "execution_count": 42,
   "metadata": {},
   "outputs": [
    {
     "name": "stdout",
     "output_type": "stream",
     "text": [
      "Raspuns corect\n"
     ]
    }
   ],
   "source": [
    "def q():\n",
    "    return 1\n",
    "\n",
    "print('Raspuns %s' % ('corect' if r(27, q()) else 'incorect'))"
   ]
  },
  {
   "cell_type": "markdown",
   "metadata": {},
   "source": [
    "Q28. Ce reprezintă percentila $x_v$ pe graficul PDF?\n",
    "\n",
    "1. Aria din partea dreaptă a lui $x_v$;\n",
    "2. Linia verticală $x_v$;\n",
    "3. Aria din partea stângă a luii $x_v$;\n",
    "4. Nici una din cele de mai sus."
   ]
  },
  {
   "cell_type": "code",
   "execution_count": 43,
   "metadata": {},
   "outputs": [
    {
     "name": "stdout",
     "output_type": "stream",
     "text": [
      "Raspuns corect\n"
     ]
    }
   ],
   "source": [
    "def q():\n",
    "    return 3\n",
    "\n",
    "print('Raspuns %s' % ('corect' if r(28, q()) else 'incorect'))"
   ]
  },
  {
   "cell_type": "markdown",
   "metadata": {},
   "source": [
    "## 3. Probabilităţi condiţionate\n",
    "\n",
    "Q29. Revenim la aruncarea cu zarul. Cineva dă cu zarul şi vă comunică faptul că aruncarea a generat un număr impar. Care este probabilitatea ca să fi ieşit 3?"
   ]
  },
  {
   "cell_type": "code",
   "execution_count": 44,
   "metadata": {},
   "outputs": [
    {
     "name": "stdout",
     "output_type": "stream",
     "text": [
      "Raspuns corect\n"
     ]
    }
   ],
   "source": [
    "def q():\n",
    "    return 1/3\n",
    "\n",
    "print('Raspuns %s' % ('corect' if r(29, q()) else 'incorect'))"
   ]
  },
  {
   "cell_type": "markdown",
   "metadata": {},
   "source": [
    "Q30. Probabilitatea acestui al doilea eveniment este condiţionată de informaţie, aşa încât probabilitatea de a ieşi 3 nu mai este cea iniţială 1/6.\n",
    "\n",
    "Probabilitatea condiţionată a unui eveniment A dat fiind faptul că s-a întâmplat B, este $P(A|B) = P(A \\cap B) / P(B)$. $P(A|B)$ este probabilitatea ca ambele evenimente să apară împărţită la probabilitatea ca B să apară.\n",
    "\n",
    "Care este probabilitatea $P(A \\cap B)$, unde A este evenimentul ca să apară 3 iar B evenimentul să dăm un număr impar?"
   ]
  },
  {
   "cell_type": "code",
   "execution_count": 45,
   "metadata": {},
   "outputs": [
    {
     "name": "stdout",
     "output_type": "stream",
     "text": [
      "Raspuns corect\n"
     ]
    }
   ],
   "source": [
    "def q():\n",
    "    return 1/6\n",
    "\n",
    "print('Raspuns %s' % ('corect' if r(30, q()) else 'incorect'))"
   ]
  },
  {
   "cell_type": "markdown",
   "metadata": {},
   "source": [
    "Q31. Din definiţia lui $P(A|B)$, putem scrie $P(A \\cap B) = P(A, B) = P(A|B)P(B)$. Folosim acest lucru să exprimăm $P(B|A)$.\n",
    "\n",
    "Teorema lui Bayes se formulează în jurul acestei intersecţii de evenimente:\n",
    "\n",
    "$$P(B|A) * P(A) = P(A \\cap B) = P(A, B) = P(A|B) * P(B)$$\n",
    "\n",
    "Presupunem că nu cunoaştem $P(A)$ direct, ci doar probabilităţile sale condiţionate, adică probabilitatea că A apare când B apare, respectiv că A apare când B nu apare. Acestea sunt $P(A|B)$ respectiv $P(A|B^c)$. \n",
    "\n",
    "Putem exprima $P(A) = P(A|B)P(B) + P(A|B^c)P(B^c)$ şi să înlocuim în Teorema Bayes:\n",
    "\n",
    "$$P(B|A) = \\frac{P(A|B)P(B)}{P(A|B)P(B) + P(A|B^c)P(B^c)}$$\n",
    "\n",
    "Vom discuta aplicabilitatea acesteia folosind un test clinic.\n",
    "\n",
    "Fie D evenimentul ca pacientul să aibă HIV şi fie + indicaţia pentru un test pozitiv şi - indicaţia pentru test negativ. Cunoaştem specificitatea şi senzitivitatea testului, şi anume (selectaţi varianta corectă):\n",
    "\n",
    "1. $P(+|D)$ şi $P(-|D^c)$\n",
    "2. $P(+|D)$ şi $P(-|D)$\n",
    "3. $P(+|D^c)$ şi $P(-|D^c)$\n",
    "4. $P(+|D^c)$ şi $P(-|D)$"
   ]
  },
  {
   "cell_type": "code",
   "execution_count": 46,
   "metadata": {},
   "outputs": [
    {
     "name": "stdout",
     "output_type": "stream",
     "text": [
      "Raspuns corect\n"
     ]
    }
   ],
   "source": [
    "def q():\n",
    "    return 1\n",
    "\n",
    "print('Raspuns %s' % ('corect' if r(31, q()) else 'incorect'))"
   ]
  },
  {
   "cell_type": "markdown",
   "metadata": {},
   "source": [
    "Q32. Presupunem că o persoană primeşte rezultat pozitiv şi vine dintr-o populaţie cu prevalenţa bolii de 0.001 (0.1%). Vrem să aflăm probabilitatea ca ea să aibă HIV. Ce reprezintă asta?\n",
    "\n",
    "1. $P(+|D)$\n",
    "2. $P(D^c|+)$\n",
    "3. $P(D|-)$\n",
    "4. $P(D|+)$"
   ]
  },
  {
   "cell_type": "code",
   "execution_count": 47,
   "metadata": {},
   "outputs": [
    {
     "name": "stdout",
     "output_type": "stream",
     "text": [
      "Raspuns corect\n"
     ]
    }
   ],
   "source": [
    "def q():\n",
    "    return 4\n",
    "\n",
    "print('Raspuns %s' % ('corect' if r(32, q()) else 'incorect'))"
   ]
  },
  {
   "cell_type": "markdown",
   "metadata": {},
   "source": [
    "Q33. Din teorema Bayes, avem:\n",
    "\n",
    "$$P(D|+) = \\frac{P(+|D)P(D)}{P(+|D)P(D)+P(+|D^c)P(D^c)}$$\n",
    "\n",
    "Deoarece $P(D^c) = 1 - P(D)$ şi $P(+|D^c) = 1 - P(-|D^c)$ (elemente complementare), putem calcula probabilitatea ca chiar să aibă boala dacă testul iese pozitiv, cunoscând senzitivitatea (rezultat pozitiv cu boală) de 99.7% şi specificitatea (test negativ fără boală) de 98.5%.\n",
    "\n",
    "Probabilitatea ca pacientul să aibă boala dacă testul e pozitiv, $P(D|+)$ (positive predictive value) este:"
   ]
  },
  {
   "cell_type": "code",
   "execution_count": 48,
   "metadata": {},
   "outputs": [
    {
     "name": "stdout",
     "output_type": "stream",
     "text": [
      "Raspuns corect\n"
     ]
    }
   ],
   "source": [
    "# rotunjiţi la 4 zecimale folosind funcţia round() \n",
    "# (apăsaţi Shift-Tab cu cursorul după paranteza deschisă la 'round(' ca să vedeţi cum se foloseşte)\n",
    "def q():\n",
    "    return round((0.997*0.001)/((0.997*0.001)+(0.015*0.999)),4)\n",
    "\n",
    "print('Raspuns %s' % ('corect' if r(33, q()) else 'incorect'))"
   ]
  },
  {
   "cell_type": "markdown",
   "metadata": {},
   "source": [
    "Q34. Diagnostic likelihood ratio pentru un test pozitiv, $DLR_+$, este raportul dintre două probabilităţi condiţionate, una în prezenţa bolii alta în absenţa ei. Anume, $DLR_+ = \\frac{P(+|D)}{P(+|D^c)}$. Similar, $DLR_-$ este diagnostic likelihood ratio pentru un test negativ. Care este definiţia sa?\n",
    "\n",
    "1. $P(+|D^c) / P(-|D)$\n",
    "2. $P(-|D) / P(+|D^c)$\n",
    "3. Niciuna\n",
    "4. $P(-|D) / P(-|D^c)$"
   ]
  },
  {
   "cell_type": "code",
   "execution_count": 49,
   "metadata": {},
   "outputs": [
    {
     "name": "stdout",
     "output_type": "stream",
     "text": [
      "Raspuns corect\n"
     ]
    }
   ],
   "source": [
    "def q():\n",
    "    return 4\n",
    "\n",
    "print('Raspuns %s' % ('corect' if r(34, q()) else 'incorect'))"
   ]
  },
  {
   "cell_type": "markdown",
   "metadata": {},
   "source": [
    "Q35. Specificitatea $P(+|D)$ şi senzitivitatea $P(-|D^c)$ reprezintă ratele de acurateţe ale testului şi trebuie să fie apropiate de 1 (nimeni nu acceptă un test cu acurateţe slabă, nu?). Deoarce $DLR_+ = P(+|D) / P(+|D^c)$, recunoaştem pe primul termen senzitivitatea şi pe al doilea (1 - specificitatea). \n",
    "\n",
    "Deoarece numărătorul este aproape de 1 iar numitorul aproape de 0, ne aşteptăm ca $DLR_+$ să fie mic sau mare? Răspundeţi cu 'mic' sau 'mare':"
   ]
  },
  {
   "cell_type": "code",
   "execution_count": 63,
   "metadata": {},
   "outputs": [
    {
     "name": "stdout",
     "output_type": "stream",
     "text": [
      "Raspuns corect\n"
     ]
    }
   ],
   "source": [
    "def q():\n",
    "    return 'mare'\n",
    "\n",
    "print('Raspuns %s' % ('corect' if r(35, q()) else 'incorect'))"
   ]
  }
 ],
 "metadata": {
  "kernelspec": {
   "display_name": "Python 3",
   "language": "python",
   "name": "python3"
  },
  "language_info": {
   "codemirror_mode": {
    "name": "ipython",
    "version": 3
   },
   "file_extension": ".py",
   "mimetype": "text/x-python",
   "name": "python",
   "nbconvert_exporter": "python",
   "pygments_lexer": "ipython3",
   "version": "3.8.8"
  }
 },
 "nbformat": 4,
 "nbformat_minor": 2
}
